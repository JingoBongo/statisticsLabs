{
 "cells": [
  {
   "cell_type": "code",
   "execution_count": 1,
   "source": [
    "from io import StringIO\r\n",
    "import pandas\r\n",
    "\r\n",
    "datafile = StringIO(\"\"\"\\\r\n",
    "Year  Amount\r\n",
    "1996    65155\r\n",
    "1984    88705\r\n",
    "1996    115551\r\n",
    "2010    87222\r\n",
    "1995    3043\r\n",
    "1994    54789\r\n",
    "2007    87655\r\n",
    "1996    55189\r\n",
    "2005    34914\r\n",
    "2005    122643\r\n",
    "1995    111700\r\n",
    "1996    64065\r\n",
    "1995    76783\r\n",
    "1994    85687\r\n",
    "1995    88515\r\n",
    "1996    48352\r\n",
    "1995    315025\r\n",
    "1995    80074\r\n",
    "1995    133998\r\n",
    "2000    40918\r\n",
    "2000    108585\r\n",
    "1996    119506\r\n",
    "2003    105385\r\n",
    "2003    93374\r\n",
    "1996    63970\r\n",
    "1995    15261\r\n",
    "1996    128078\r\n",
    "1995    83593\r\n",
    "1994    54544\r\n",
    "2006    108167\r\n",
    "1996    141421\r\n",
    "2005    83725\r\n",
    "\"\"\")\r\n",
    "\r\n",
    "df = pandas.read_csv(datafile, sep='\\s+')\r\n",
    "ax = df.groupby(by=['Year']).max().plot.bar(legend=False)\r\n",
    "ax.set_ylabel(\"Amount\")"
   ],
   "outputs": [
    {
     "output_type": "execute_result",
     "data": {
      "text/plain": [
       "Text(0, 0.5, 'Amount')"
      ]
     },
     "metadata": {},
     "execution_count": 1
    },
    {
     "output_type": "display_data",
     "data": {
      "image/png": "[encoded data removed]",
      "text/plain": [
       "<Figure size 432x288 with 1 Axes>"
      ]
     },
     "metadata": {
      "needs_background": "light"
     }
    }
   ],
   "metadata": {}
  }
 ],
 "metadata": {
  "orig_nbformat": 4,
  "language_info": {
   "name": "python",
   "version": "3.9.5",
   "mimetype": "text/x-python",
   "codemirror_mode": {
    "name": "ipython",
    "version": 3
   },
   "pygments_lexer": "ipython3",
   "nbconvert_exporter": "python",
   "file_extension": ".py"
  },
  "kernelspec": {
   "name": "python3",
   "display_name": "Python 3.9.5 64-bit"
  },
  "interpreter": {
   "hash": "ac59ebe37160ed0dfa835113d9b8498d9f09ceb179beaac4002f036b9467c963"
  }
 },
 "nbformat": 4,
 "nbformat_minor": 2
}