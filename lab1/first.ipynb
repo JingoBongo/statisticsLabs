{
 "cells": [
  {
   "cell_type": "code",
   "execution_count": 40,
   "source": [
    "# 1. imports\r\n",
    "import pandas as pd\r\n",
    "import numpy as np\r\n",
    "import matplotlib.pyplot as plt"
   ],
   "outputs": [],
   "metadata": {}
  },
  {
   "cell_type": "code",
   "execution_count": 41,
   "source": [
    "# 2. upload the dataset\r\n",
    "dataset = pd.read_csv('diabetes.csv')"
   ],
   "outputs": [],
   "metadata": {}
  },
  {
   "cell_type": "code",
   "execution_count": 42,
   "source": [
    "# 3. explore dataset\r\n",
    "dataset.describe()"
   ],
   "outputs": [
    {
     "output_type": "execute_result",
     "data": {
      "text/html": [
       "<div>\n",
       "<style scoped>\n",
       "    .dataframe tbody tr th:only-of-type {\n",
       "        vertical-align: middle;\n",
       "    }\n",
       "\n",
       "    .dataframe tbody tr th {\n",
       "        vertical-align: top;\n",
       "    }\n",
       "\n",
       "    .dataframe thead th {\n",
       "        text-align: right;\n",
       "    }\n",
       "</style>\n",
       "<table border=\"1\" class=\"dataframe\">\n",
       "  <thead>\n",
       "    <tr style=\"text-align: right;\">\n",
       "      <th></th>\n",
       "      <th>Pregnancies</th>\n",
       "      <th>Glucose</th>\n",
       "      <th>BloodPressure</th>\n",
       "      <th>SkinThickness</th>\n",
       "      <th>Insulin</th>\n",
       "      <th>BMI</th>\n",
       "      <th>DiabetesPedigreeFunction</th>\n",
       "      <th>Age</th>\n",
       "      <th>Outcome</th>\n",
       "    </tr>\n",
       "  </thead>\n",
       "  <tbody>\n",
       "    <tr>\n",
       "      <th>count</th>\n",
       "      <td>768.000000</td>\n",
       "      <td>768.000000</td>\n",
       "      <td>768.000000</td>\n",
       "      <td>768.000000</td>\n",
       "      <td>768.000000</td>\n",
       "      <td>768.000000</td>\n",
       "      <td>768.000000</td>\n",
       "      <td>768.000000</td>\n",
       "      <td>768.000000</td>\n",
       "    </tr>\n",
       "    <tr>\n",
       "      <th>mean</th>\n",
       "      <td>3.845052</td>\n",
       "      <td>120.894531</td>\n",
       "      <td>69.105469</td>\n",
       "      <td>20.536458</td>\n",
       "      <td>79.799479</td>\n",
       "      <td>31.992578</td>\n",
       "      <td>0.471876</td>\n",
       "      <td>33.240885</td>\n",
       "      <td>0.348958</td>\n",
       "    </tr>\n",
       "    <tr>\n",
       "      <th>std</th>\n",
       "      <td>3.369578</td>\n",
       "      <td>31.972618</td>\n",
       "      <td>19.355807</td>\n",
       "      <td>15.952218</td>\n",
       "      <td>115.244002</td>\n",
       "      <td>7.884160</td>\n",
       "      <td>0.331329</td>\n",
       "      <td>11.760232</td>\n",
       "      <td>0.476951</td>\n",
       "    </tr>\n",
       "    <tr>\n",
       "      <th>min</th>\n",
       "      <td>0.000000</td>\n",
       "      <td>0.000000</td>\n",
       "      <td>0.000000</td>\n",
       "      <td>0.000000</td>\n",
       "      <td>0.000000</td>\n",
       "      <td>0.000000</td>\n",
       "      <td>0.078000</td>\n",
       "      <td>21.000000</td>\n",
       "      <td>0.000000</td>\n",
       "    </tr>\n",
       "    <tr>\n",
       "      <th>25%</th>\n",
       "      <td>1.000000</td>\n",
       "      <td>99.000000</td>\n",
       "      <td>62.000000</td>\n",
       "      <td>0.000000</td>\n",
       "      <td>0.000000</td>\n",
       "      <td>27.300000</td>\n",
       "      <td>0.243750</td>\n",
       "      <td>24.000000</td>\n",
       "      <td>0.000000</td>\n",
       "    </tr>\n",
       "    <tr>\n",
       "      <th>50%</th>\n",
       "      <td>3.000000</td>\n",
       "      <td>117.000000</td>\n",
       "      <td>72.000000</td>\n",
       "      <td>23.000000</td>\n",
       "      <td>30.500000</td>\n",
       "      <td>32.000000</td>\n",
       "      <td>0.372500</td>\n",
       "      <td>29.000000</td>\n",
       "      <td>0.000000</td>\n",
       "    </tr>\n",
       "    <tr>\n",
       "      <th>75%</th>\n",
       "      <td>6.000000</td>\n",
       "      <td>140.250000</td>\n",
       "      <td>80.000000</td>\n",
       "      <td>32.000000</td>\n",
       "      <td>127.250000</td>\n",
       "      <td>36.600000</td>\n",
       "      <td>0.626250</td>\n",
       "      <td>41.000000</td>\n",
       "      <td>1.000000</td>\n",
       "    </tr>\n",
       "    <tr>\n",
       "      <th>max</th>\n",
       "      <td>17.000000</td>\n",
       "      <td>199.000000</td>\n",
       "      <td>122.000000</td>\n",
       "      <td>99.000000</td>\n",
       "      <td>846.000000</td>\n",
       "      <td>67.100000</td>\n",
       "      <td>2.420000</td>\n",
       "      <td>81.000000</td>\n",
       "      <td>1.000000</td>\n",
       "    </tr>\n",
       "  </tbody>\n",
       "</table>\n",
       "</div>"
      ],
      "text/plain": [
       "       Pregnancies     Glucose  BloodPressure  SkinThickness     Insulin  \\\n",
       "count   768.000000  768.000000     768.000000     768.000000  768.000000   \n",
       "mean      3.845052  120.894531      69.105469      20.536458   79.799479   \n",
       "std       3.369578   31.972618      19.355807      15.952218  115.244002   \n",
       "min       0.000000    0.000000       0.000000       0.000000    0.000000   \n",
       "25%       1.000000   99.000000      62.000000       0.000000    0.000000   \n",
       "50%       3.000000  117.000000      72.000000      23.000000   30.500000   \n",
       "75%       6.000000  140.250000      80.000000      32.000000  127.250000   \n",
       "max      17.000000  199.000000     122.000000      99.000000  846.000000   \n",
       "\n",
       "              BMI  DiabetesPedigreeFunction         Age     Outcome  \n",
       "count  768.000000                768.000000  768.000000  768.000000  \n",
       "mean    31.992578                  0.471876   33.240885    0.348958  \n",
       "std      7.884160                  0.331329   11.760232    0.476951  \n",
       "min      0.000000                  0.078000   21.000000    0.000000  \n",
       "25%     27.300000                  0.243750   24.000000    0.000000  \n",
       "50%     32.000000                  0.372500   29.000000    0.000000  \n",
       "75%     36.600000                  0.626250   41.000000    1.000000  \n",
       "max     67.100000                  2.420000   81.000000    1.000000  "
      ]
     },
     "metadata": {},
     "execution_count": 42
    }
   ],
   "metadata": {}
  },
  {
   "cell_type": "code",
   "execution_count": 43,
   "source": [
    "# dataset without blood pressure 0 ;;;;;; pparently this is for task 12\r\n",
    "# dataset = dataset.drop(dataset[dataset.BloodPressure == 0].index)\r\n",
    "# dataset.describe()"
   ],
   "outputs": [],
   "metadata": {}
  },
  {
   "cell_type": "code",
   "execution_count": 44,
   "source": [
    "# 4. list variable names\r\n",
    "dataset.columns.tolist()"
   ],
   "outputs": [
    {
     "output_type": "execute_result",
     "data": {
      "text/plain": [
       "['Pregnancies',\n",
       " 'Glucose',\n",
       " 'BloodPressure',\n",
       " 'SkinThickness',\n",
       " 'Insulin',\n",
       " 'BMI',\n",
       " 'DiabetesPedigreeFunction',\n",
       " 'Age',\n",
       " 'Outcome']"
      ]
     },
     "metadata": {},
     "execution_count": 44
    }
   ],
   "metadata": {}
  },
  {
   "cell_type": "code",
   "execution_count": 73,
   "source": [
    "# 5. count how many have diabetes and how many don'\r\n",
    "value_counts = dataset.Outcome.value_counts()\r\n"
   ],
   "outputs": [],
   "metadata": {}
  },
  {
   "cell_type": "code",
   "execution_count": 46,
   "source": [
    "# 6. Create a bar chart to represent the frequencies of those with diabetes versus those without diabetes, \r\n",
    "# label the axes and name the chart.\r\n",
    "not_diabetes = value_counts[0]\r\n",
    "diabetes = value_counts[1]\r\n",
    "diabetes_havers_labels = ['Diabetes', 'W/ diabetes']\r\n",
    "plt.bar(diabetes_havers_labels, [diabetes, not_diabetes])\r\n",
    "plt.title('Frequency of having diabetes versus not having diabetes')\r\n",
    "plt.xlabel('Have a disease vs not have one')\r\n",
    "plt.ylabel('Amount of people')\r\n",
    "plt.show()"
   ],
   "outputs": [
    {
     "output_type": "display_data",
     "data": {
      "image/png": "[encoded data removed]",
      "text/plain": [
       "<Figure size 432x288 with 1 Axes>"
      ]
     },
     "metadata": {
      "needs_background": "light"
     }
    }
   ],
   "metadata": {}
  },
  {
   "cell_type": "code",
   "execution_count": 66,
   "source": [
    "# 7.\tCreate a pie plot, change the colors, add the labels, add shade, and ‘explode’ the pie slice for those that have no diabetes. \r\n",
    "# Create the legend and put it into the right corner so that it does cover the pie plot. \r\n",
    "pie_colors = ['white', 'orange']\r\n",
    "plt.pie(value_counts, labels=diabetes_havers_labels, colors=pie_colors, explode=[0, 0.1], shadow=True, autopct='%1.1f%%')\r\n",
    "# matplotlib.rcParams['text.color'] = 'white'\r\n",
    "plt.legend()\r\n",
    "plt.legend(loc=\"upper right\")\r\n",
    "plt.subplots_adjust(left=0.01, bottom=0.001, right=0.75)\r\n",
    "plt.show()"
   ],
   "outputs": [
    {
     "output_type": "display_data",
     "data": {
      "image/png": "[encoded data removed]",
      "text/plain": [
       "<Figure size 720x360 with 1 Axes>"
      ]
     },
     "metadata": {}
    }
   ],
   "metadata": {}
  },
  {
   "cell_type": "code",
   "execution_count": 48,
   "source": [
    "# 8. Calculate and report the mean the standard deviation of the BMI variable.\r\n",
    "bmi_mean = dataset.BMI.mean()\r\n",
    "bmi_std = dataset.BMI.std()\r\n",
    "print('BMI mean: ' + str(bmi_mean))\r\n",
    "print('BMI standard deviation: ' + str(bmi_std))"
   ],
   "outputs": [
    {
     "output_type": "stream",
     "name": "stdout",
     "text": [
      "BMI mean: 31.992578124999998\n",
      "BMI standard deviation: 7.884160320375446\n"
     ]
    }
   ],
   "metadata": {}
  },
  {
   "cell_type": "code",
   "execution_count": 53,
   "source": [
    "# 9. By using the Chebysheffs Theorem infer what is the range for the BMI variable for 75% of the people in your dataset.\r\n",
    "#  What is the range for 89% of the people in your dataset.\r\n",
    "# 1) mean - (lower boundary) = within number\r\n",
    "# 2) mean - (upper boundary) = within number\r\n",
    "#  k - number of standard deviations\r\n",
    "#  k = the within number / std \r\n",
    "wn75 = np.sqrt(1/(1 - 75/100)) * bmi_std\r\n",
    "wn89 = np.sqrt(1/(1 - 89/100)) * bmi_std\r\n",
    "print(wn75)\r\n",
    "print('range for 75% is between '+ str(bmi_mean - wn75) + ' and ' + str(bmi_mean + wn75))\r\n",
    "print(wn89)\r\n",
    "print('range for 89% is between '+ str(bmi_mean - wn89) + ' and ' + str(bmi_mean + wn89))"
   ],
   "outputs": [
    {
     "output_type": "stream",
     "name": "stdout",
     "text": [
      "15.768320640750892\n",
      "range for 75% is between 16.224257484249108 and 47.76089876575089\n",
      "23.771637790630525\n",
      "range for 89% is between 8.220940334369473 and 55.76421591563052\n"
     ]
    }
   ],
   "metadata": {}
  },
  {
   "cell_type": "code",
   "execution_count": 75,
   "source": [
    "# 10. Create a histogram for the BMI variable, plot the mean and meadian on the historgram to answer the following question:\r\n",
    "# a)\tIs the BMI distribution skewed based on the position of the mean versus the median?\r\n",
    "# b)\tCalculate the skewness of BMI\r\n",
    "# c)\tBased on the value of BMI median and on the chart below infer what percentage of people in your dataset are obese. (1.5pt)\r\n",
    "# create histogram\r\n",
    "# ax = dataset.groupby(by=['BMI']).max().plot.bar(legend = False)\r\n",
    "# ax.set_ylabel('test label')\r\n",
    "plt.hist(dataset.BMI)\r\n",
    "plt.title('empty title')\r\n",
    "plt.xlabel('BMI')\r\n",
    "plt.ylabel('Amount of people')\r\n",
    "bmi_median = np.median(dataset.BMI)\r\n",
    "print('BMI median = '+str(bmi_median))\r\n",
    "plt.axvline(bmi_mean, color='yellow', linestyle='-')\r\n",
    "plt.axvline(bmi_median, color='red', linestyle='-.')\r\n",
    "plt.rcParams['figure.figsize'] = [10, 5]\r\n",
    "plt.show()\r\n",
    "# a: it doesn't seem that much skewed based on any of these  variables\r\n",
    "# b: skewness is negative, therefore there are tails on the left side\r\n",
    "bmi_skewness = dataset.BMI.skew()\r\n",
    "print('BMI skewness = '+str(bmi_skewness))\r\n",
    "# c: \r\n",
    "# obese people are with bmi = 30 or higher\r\n",
    "len(dataset.BMI[dataset.BMI >= 30])/(len(dataset.BMI) / 100)"
   ],
   "outputs": [
    {
     "output_type": "stream",
     "name": "stdout",
     "text": [
      "BMI median = 32.0\n"
     ]
    },
    {
     "output_type": "display_data",
     "data": {
      "image/png": "[encoded data removed]",
      "text/plain": [
       "<Figure size 720x360 with 1 Axes>"
      ]
     },
     "metadata": {
      "needs_background": "light"
     }
    },
    {
     "output_type": "stream",
     "name": "stdout",
     "text": [
      "BMI skewness = -0.42898158845356543\n"
     ]
    },
    {
     "output_type": "execute_result",
     "data": {
      "text/plain": [
       "61.458333333333336"
      ]
     },
     "metadata": {},
     "execution_count": 75
    }
   ],
   "metadata": {}
  }
 ],
 "metadata": {
  "orig_nbformat": 4,
  "language_info": {
   "name": "python",
   "version": "3.9.5",
   "mimetype": "text/x-python",
   "codemirror_mode": {
    "name": "ipython",
    "version": 3
   },
   "pygments_lexer": "ipython3",
   "nbconvert_exporter": "python",
   "file_extension": ".py"
  },
  "kernelspec": {
   "name": "python3",
   "display_name": "Python 3.9.5 64-bit"
  },
  "interpreter": {
   "hash": "ac59ebe37160ed0dfa835113d9b8498d9f09ceb179beaac4002f036b9467c963"
  }
 },
 "nbformat": 4,
 "nbformat_minor": 2
}