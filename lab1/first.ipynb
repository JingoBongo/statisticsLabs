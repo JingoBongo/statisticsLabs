{
 "cells": [
  {
   "cell_type": "markdown",
   "source": [
    "Laboratory work 1 \r\n",
    "\r\n",
    "Scebec Mihai, IS-211M\r\n",
    "\r\n",
    "Additional sorry for making this so lame-like. It is first time I see jupyter and it is 5 minutes since I saw markdowns. So far I don't even see what\r\n",
    "parts of the code should be commented more, so I am hoping I will get better at it."
   ],
   "metadata": {}
  },
  {
   "cell_type": "code",
   "execution_count": 51,
   "source": [
    "# 1. imports\r\n",
    "import pandas as pd\r\n",
    "import numpy as np\r\n",
    "import matplotlib.pyplot as plt"
   ],
   "outputs": [],
   "metadata": {}
  },
  {
   "cell_type": "code",
   "execution_count": 52,
   "source": [
    "# 2. upload the dataset\r\n",
    "dataset = pd.read_csv('diabetes.csv')"
   ],
   "outputs": [],
   "metadata": {}
  },
  {
   "cell_type": "code",
   "execution_count": 53,
   "source": [
    "# 3. explore dataset\r\n",
    "dataset.describe()"
   ],
   "outputs": [
    {
     "output_type": "execute_result",
     "data": {
      "text/html": [
       "<div>\n",
       "<style scoped>\n",
       "    .dataframe tbody tr th:only-of-type {\n",
       "        vertical-align: middle;\n",
       "    }\n",
       "\n",
       "    .dataframe tbody tr th {\n",
       "        vertical-align: top;\n",
       "    }\n",
       "\n",
       "    .dataframe thead th {\n",
       "        text-align: right;\n",
       "    }\n",
       "</style>\n",
       "<table border=\"1\" class=\"dataframe\">\n",
       "  <thead>\n",
       "    <tr style=\"text-align: right;\">\n",
       "      <th></th>\n",
       "      <th>Pregnancies</th>\n",
       "      <th>Glucose</th>\n",
       "      <th>BloodPressure</th>\n",
       "      <th>SkinThickness</th>\n",
       "      <th>Insulin</th>\n",
       "      <th>BMI</th>\n",
       "      <th>DiabetesPedigreeFunction</th>\n",
       "      <th>Age</th>\n",
       "      <th>Outcome</th>\n",
       "    </tr>\n",
       "  </thead>\n",
       "  <tbody>\n",
       "    <tr>\n",
       "      <th>count</th>\n",
       "      <td>768.000000</td>\n",
       "      <td>768.000000</td>\n",
       "      <td>768.000000</td>\n",
       "      <td>768.000000</td>\n",
       "      <td>768.000000</td>\n",
       "      <td>768.000000</td>\n",
       "      <td>768.000000</td>\n",
       "      <td>768.000000</td>\n",
       "      <td>768.000000</td>\n",
       "    </tr>\n",
       "    <tr>\n",
       "      <th>mean</th>\n",
       "      <td>3.845052</td>\n",
       "      <td>120.894531</td>\n",
       "      <td>69.105469</td>\n",
       "      <td>20.536458</td>\n",
       "      <td>79.799479</td>\n",
       "      <td>31.992578</td>\n",
       "      <td>0.471876</td>\n",
       "      <td>33.240885</td>\n",
       "      <td>0.348958</td>\n",
       "    </tr>\n",
       "    <tr>\n",
       "      <th>std</th>\n",
       "      <td>3.369578</td>\n",
       "      <td>31.972618</td>\n",
       "      <td>19.355807</td>\n",
       "      <td>15.952218</td>\n",
       "      <td>115.244002</td>\n",
       "      <td>7.884160</td>\n",
       "      <td>0.331329</td>\n",
       "      <td>11.760232</td>\n",
       "      <td>0.476951</td>\n",
       "    </tr>\n",
       "    <tr>\n",
       "      <th>min</th>\n",
       "      <td>0.000000</td>\n",
       "      <td>0.000000</td>\n",
       "      <td>0.000000</td>\n",
       "      <td>0.000000</td>\n",
       "      <td>0.000000</td>\n",
       "      <td>0.000000</td>\n",
       "      <td>0.078000</td>\n",
       "      <td>21.000000</td>\n",
       "      <td>0.000000</td>\n",
       "    </tr>\n",
       "    <tr>\n",
       "      <th>25%</th>\n",
       "      <td>1.000000</td>\n",
       "      <td>99.000000</td>\n",
       "      <td>62.000000</td>\n",
       "      <td>0.000000</td>\n",
       "      <td>0.000000</td>\n",
       "      <td>27.300000</td>\n",
       "      <td>0.243750</td>\n",
       "      <td>24.000000</td>\n",
       "      <td>0.000000</td>\n",
       "    </tr>\n",
       "    <tr>\n",
       "      <th>50%</th>\n",
       "      <td>3.000000</td>\n",
       "      <td>117.000000</td>\n",
       "      <td>72.000000</td>\n",
       "      <td>23.000000</td>\n",
       "      <td>30.500000</td>\n",
       "      <td>32.000000</td>\n",
       "      <td>0.372500</td>\n",
       "      <td>29.000000</td>\n",
       "      <td>0.000000</td>\n",
       "    </tr>\n",
       "    <tr>\n",
       "      <th>75%</th>\n",
       "      <td>6.000000</td>\n",
       "      <td>140.250000</td>\n",
       "      <td>80.000000</td>\n",
       "      <td>32.000000</td>\n",
       "      <td>127.250000</td>\n",
       "      <td>36.600000</td>\n",
       "      <td>0.626250</td>\n",
       "      <td>41.000000</td>\n",
       "      <td>1.000000</td>\n",
       "    </tr>\n",
       "    <tr>\n",
       "      <th>max</th>\n",
       "      <td>17.000000</td>\n",
       "      <td>199.000000</td>\n",
       "      <td>122.000000</td>\n",
       "      <td>99.000000</td>\n",
       "      <td>846.000000</td>\n",
       "      <td>67.100000</td>\n",
       "      <td>2.420000</td>\n",
       "      <td>81.000000</td>\n",
       "      <td>1.000000</td>\n",
       "    </tr>\n",
       "  </tbody>\n",
       "</table>\n",
       "</div>"
      ],
      "text/plain": [
       "       Pregnancies     Glucose  BloodPressure  SkinThickness     Insulin  \\\n",
       "count   768.000000  768.000000     768.000000     768.000000  768.000000   \n",
       "mean      3.845052  120.894531      69.105469      20.536458   79.799479   \n",
       "std       3.369578   31.972618      19.355807      15.952218  115.244002   \n",
       "min       0.000000    0.000000       0.000000       0.000000    0.000000   \n",
       "25%       1.000000   99.000000      62.000000       0.000000    0.000000   \n",
       "50%       3.000000  117.000000      72.000000      23.000000   30.500000   \n",
       "75%       6.000000  140.250000      80.000000      32.000000  127.250000   \n",
       "max      17.000000  199.000000     122.000000      99.000000  846.000000   \n",
       "\n",
       "              BMI  DiabetesPedigreeFunction         Age     Outcome  \n",
       "count  768.000000                768.000000  768.000000  768.000000  \n",
       "mean    31.992578                  0.471876   33.240885    0.348958  \n",
       "std      7.884160                  0.331329   11.760232    0.476951  \n",
       "min      0.000000                  0.078000   21.000000    0.000000  \n",
       "25%     27.300000                  0.243750   24.000000    0.000000  \n",
       "50%     32.000000                  0.372500   29.000000    0.000000  \n",
       "75%     36.600000                  0.626250   41.000000    1.000000  \n",
       "max     67.100000                  2.420000   81.000000    1.000000  "
      ]
     },
     "metadata": {},
     "execution_count": 53
    }
   ],
   "metadata": {}
  },
  {
   "cell_type": "markdown",
   "source": [
    "In third task there are obviously too many zeroes that showed up."
   ],
   "metadata": {}
  },
  {
   "cell_type": "code",
   "execution_count": 54,
   "source": [
    "# 4. list variable names\r\n",
    "dataset.columns.tolist()"
   ],
   "outputs": [
    {
     "output_type": "execute_result",
     "data": {
      "text/plain": [
       "['Pregnancies',\n",
       " 'Glucose',\n",
       " 'BloodPressure',\n",
       " 'SkinThickness',\n",
       " 'Insulin',\n",
       " 'BMI',\n",
       " 'DiabetesPedigreeFunction',\n",
       " 'Age',\n",
       " 'Outcome']"
      ]
     },
     "metadata": {},
     "execution_count": 54
    }
   ],
   "metadata": {}
  },
  {
   "cell_type": "code",
   "execution_count": 55,
   "source": [
    "# 5. count how many have diabetes and how many don't\r\n",
    "value_counts = dataset.Outcome.value_counts()\r\n",
    "print('Diabetes counts: ')\r\n",
    "print(str(value_counts))"
   ],
   "outputs": [
    {
     "output_type": "stream",
     "name": "stdout",
     "text": [
      "Diabetes counts: \n",
      "0    500\n",
      "1    268\n",
      "Name: Outcome, dtype: int64\n"
     ]
    }
   ],
   "metadata": {}
  },
  {
   "cell_type": "code",
   "execution_count": 56,
   "source": [
    "# 6. Create a bar chart to represent the frequencies of those with diabetes versus those without diabetes, \r\n",
    "# label the axes and name the chart.\r\n",
    "not_diabetes = value_counts[0]\r\n",
    "diabetes = value_counts[1]\r\n",
    "diabetes_havers_labels = ['Diabetes', 'W/ diabetes']\r\n",
    "plt.bar(diabetes_havers_labels, [diabetes, not_diabetes])\r\n",
    "plt.title('Frequency of having diabetes versus not having diabetes')\r\n",
    "plt.xlabel('Have a disease vs not have one')\r\n",
    "plt.ylabel('Amount of people')\r\n",
    "plt.show()"
   ],
   "outputs": [
    {
     "output_type": "display_data",
     "data": {
      "image/png": "[encoded data removed]",
      "text/plain": [
       "<Figure size 720x360 with 1 Axes>"
      ]
     },
     "metadata": {
      "needs_background": "light"
     }
    }
   ],
   "metadata": {}
  },
  {
   "cell_type": "code",
   "execution_count": 57,
   "source": [
    "# 7. Create a pie plot, change the colors, add the labels, add shade, and ‘explode’ the pie slice for those that have no diabetes. \r\n",
    "# Create the legend and put it into the right corner so that it does cover the pie plot. \r\n",
    "pie_colors = ['white', 'orange']\r\n",
    "plt.pie(value_counts, labels=diabetes_havers_labels, colors=pie_colors, explode=[0, 0.1], shadow=True, autopct='%1.1f%%')\r\n",
    "# matplotlib.rcParams['text.color'] = 'white' # for dark theme.. \r\n",
    "plt.legend()\r\n",
    "plt.legend(loc=\"upper right\")\r\n",
    "plt.subplots_adjust(left=0.01, bottom=0.001, right=0.75)\r\n",
    "plt.show()"
   ],
   "outputs": [
    {
     "output_type": "display_data",
     "data": {
      "image/png": "[encoded data removed]",
      "text/plain": [
       "<Figure size 720x360 with 1 Axes>"
      ]
     },
     "metadata": {}
    }
   ],
   "metadata": {}
  },
  {
   "cell_type": "code",
   "execution_count": 58,
   "source": [
    "# 8. Calculate and report the mean the standard deviation of the BMI variable.\r\n",
    "bmi_mean = dataset.BMI.mean()\r\n",
    "bmi_std = dataset.BMI.std()\r\n",
    "print('BMI mean: ' + str(bmi_mean))\r\n",
    "print('BMI standard deviation: ' + str(bmi_std))"
   ],
   "outputs": [
    {
     "output_type": "stream",
     "name": "stdout",
     "text": [
      "BMI mean: 31.992578124999998\n",
      "BMI standard deviation: 7.884160320375446\n"
     ]
    }
   ],
   "metadata": {}
  },
  {
   "cell_type": "code",
   "execution_count": 59,
   "source": [
    "# 9. By using the Chebysheffs Theorem infer what is the range for the BMI variable for 75% of the people in your dataset.\r\n",
    "#  What is the range for 89% of the people in your dataset.\r\n",
    "# 1) mean - (lower boundary) = within number\r\n",
    "# 2) mean - (upper boundary) = within number\r\n",
    "#  k - number of standard deviations\r\n",
    "#  k = the within number / std \r\n",
    "# wn = sqrt(1/(1-x))* std; x = percentage\r\n",
    "wn75 = np.sqrt(1/(1 - 75/100)) * bmi_std\r\n",
    "wn89 = np.sqrt(1/(1 - 89/100)) * bmi_std\r\n",
    "print(wn75)\r\n",
    "print('range for 75% is between '+ str(bmi_mean - wn75) + ' and ' + str(bmi_mean + wn75))\r\n",
    "print(wn89)\r\n",
    "print('range for 89% is between '+ str(bmi_mean - wn89) + ' and ' + str(bmi_mean + wn89))"
   ],
   "outputs": [
    {
     "output_type": "stream",
     "name": "stdout",
     "text": [
      "15.768320640750892\n",
      "range for 75% is between 16.224257484249108 and 47.76089876575089\n",
      "23.771637790630525\n",
      "range for 89% is between 8.220940334369473 and 55.76421591563052\n"
     ]
    }
   ],
   "metadata": {}
  },
  {
   "cell_type": "code",
   "execution_count": 60,
   "source": [
    "# 10. Create a histogram for the BMI variable, plot the mean and meadian on the historgram to answer the following question:\r\n",
    "# a)\tIs the BMI distribution skewed based on the position of the mean versus the median?\r\n",
    "# b)\tCalculate the skewness of BMI\r\n",
    "# c)\tBased on the value of BMI median and on the chart below infer what percentage of people in your dataset are obese. (1.5pt)\r\n",
    "# create histogram\r\n",
    "plt.hist(dataset.BMI)\r\n",
    "plt.title('BMI histogram')\r\n",
    "plt.xlabel('BMI')\r\n",
    "plt.ylabel('Amount of people')\r\n",
    "bmi_median = np.median(dataset.BMI)\r\n",
    "print('BMI median = '+str(bmi_median))\r\n",
    "plt.axvline(bmi_mean, color='yellow', linestyle='-')\r\n",
    "plt.axvline(bmi_median, color='red', linestyle='-.')\r\n",
    "plt.rcParams['figure.figsize'] = [10, 5]\r\n",
    "plt.show()\r\n",
    "# a: it doesn't seem that much skewed based on any of these  variables; \r\n",
    "# b: skewness is negative, therefore there are tails on the left side\r\n",
    "bmi_skewness = dataset.BMI.skew()\r\n",
    "print('BMI skewness = '+str(bmi_skewness))\r\n",
    "# c:\r\n",
    "# obese people are with bmi = 30 or higher\r\n",
    "print('there is this exact percantage of people with obesity: '+ str(len(dataset.BMI[dataset.BMI >= 30])/(len(dataset.BMI) / 100)))"
   ],
   "outputs": [
    {
     "output_type": "stream",
     "name": "stdout",
     "text": [
      "BMI median = 32.0\n"
     ]
    },
    {
     "output_type": "display_data",
     "data": {
      "image/png": "[encoded data removed]",
      "text/plain": [
       "<Figure size 720x360 with 1 Axes>"
      ]
     },
     "metadata": {
      "needs_background": "light"
     }
    },
    {
     "output_type": "stream",
     "name": "stdout",
     "text": [
      "BMI skewness = -0.42898158845356543\n",
      "there is this exact percantage of people with obesity: 61.458333333333336\n"
     ]
    }
   ],
   "metadata": {}
  },
  {
   "cell_type": "code",
   "execution_count": 61,
   "source": [
    "# 11. doing step 10 for blood pressure\r\n",
    "plt.hist(dataset.BloodPressure)\r\n",
    "plt.title('Blood pressure histogram')\r\n",
    "plt.xlabel('Blood pressure')\r\n",
    "plt.ylabel('Amount of people')\r\n",
    "blood_pressure_median = np.median(dataset.BloodPressure)\r\n",
    "blood_pressure_mean = np.mean(dataset.BloodPressure)\r\n",
    "print('Blood pressure median = '+str(blood_pressure_median))\r\n",
    "plt.axvline(blood_pressure_mean, color='yellow', linestyle='-')\r\n",
    "plt.axvline(blood_pressure_median, color='red', linestyle='-.')\r\n",
    "plt.rcParams['figure.figsize'] = [10, 5]\r\n",
    "plt.show()\r\n",
    "# a: distribution is skewed  on the mean more it seems\r\n",
    "# b: calculate skewness, it is negative, therefore tails are on the left, but it is also VERY big, so we should stick to median instead of mean\r\n",
    "blood_pressure_skewness = dataset.BloodPressure.skew()\r\n",
    "print('Blood pressure skewness = '+str(blood_pressure_skewness))\r\n",
    "# c:\r\n",
    "# obesity is not the thing here\r\n",
    "# I found out that with more outliers on the left the mean value became less descriptive and according to the studies and to te skewness we should \r\n",
    "# stick to the median instead"
   ],
   "outputs": [
    {
     "output_type": "stream",
     "name": "stdout",
     "text": [
      "Blood pressure median = 72.0\n"
     ]
    },
    {
     "output_type": "display_data",
     "data": {
      "image/png": "[encoded data removed]",
      "text/plain": [
       "<Figure size 720x360 with 1 Axes>"
      ]
     },
     "metadata": {
      "needs_background": "light"
     }
    },
    {
     "output_type": "stream",
     "name": "stdout",
     "text": [
      "Blood pressure skewness = -1.8436079833551302\n"
     ]
    }
   ],
   "metadata": {}
  },
  {
   "cell_type": "code",
   "execution_count": 62,
   "source": [
    "# 12. Remove all the observations where the BloodPressure' and the BMI variables take the value of zero\r\n",
    "dataset = dataset.drop(dataset[dataset.BloodPressure == 0].index) # for some reason it stopped working in one line\r\n",
    "dataset = dataset.drop(dataset[dataset.BMI == 0].index) \r\n",
    "dataset.describe()"
   ],
   "outputs": [
    {
     "output_type": "execute_result",
     "data": {
      "text/html": [
       "<div>\n",
       "<style scoped>\n",
       "    .dataframe tbody tr th:only-of-type {\n",
       "        vertical-align: middle;\n",
       "    }\n",
       "\n",
       "    .dataframe tbody tr th {\n",
       "        vertical-align: top;\n",
       "    }\n",
       "\n",
       "    .dataframe thead th {\n",
       "        text-align: right;\n",
       "    }\n",
       "</style>\n",
       "<table border=\"1\" class=\"dataframe\">\n",
       "  <thead>\n",
       "    <tr style=\"text-align: right;\">\n",
       "      <th></th>\n",
       "      <th>Pregnancies</th>\n",
       "      <th>Glucose</th>\n",
       "      <th>BloodPressure</th>\n",
       "      <th>SkinThickness</th>\n",
       "      <th>Insulin</th>\n",
       "      <th>BMI</th>\n",
       "      <th>DiabetesPedigreeFunction</th>\n",
       "      <th>Age</th>\n",
       "      <th>Outcome</th>\n",
       "    </tr>\n",
       "  </thead>\n",
       "  <tbody>\n",
       "    <tr>\n",
       "      <th>count</th>\n",
       "      <td>729.000000</td>\n",
       "      <td>729.000000</td>\n",
       "      <td>729.000000</td>\n",
       "      <td>729.000000</td>\n",
       "      <td>729.000000</td>\n",
       "      <td>729.000000</td>\n",
       "      <td>729.000000</td>\n",
       "      <td>729.000000</td>\n",
       "      <td>729.000000</td>\n",
       "    </tr>\n",
       "    <tr>\n",
       "      <th>mean</th>\n",
       "      <td>3.858711</td>\n",
       "      <td>121.046639</td>\n",
       "      <td>72.367627</td>\n",
       "      <td>21.499314</td>\n",
       "      <td>83.946502</td>\n",
       "      <td>32.469959</td>\n",
       "      <td>0.474117</td>\n",
       "      <td>33.318244</td>\n",
       "      <td>0.344307</td>\n",
       "    </tr>\n",
       "    <tr>\n",
       "      <th>std</th>\n",
       "      <td>3.357468</td>\n",
       "      <td>32.255215</td>\n",
       "      <td>12.375838</td>\n",
       "      <td>15.708376</td>\n",
       "      <td>116.803000</td>\n",
       "      <td>6.885098</td>\n",
       "      <td>0.331649</td>\n",
       "      <td>11.753078</td>\n",
       "      <td>0.475468</td>\n",
       "    </tr>\n",
       "    <tr>\n",
       "      <th>min</th>\n",
       "      <td>0.000000</td>\n",
       "      <td>0.000000</td>\n",
       "      <td>24.000000</td>\n",
       "      <td>0.000000</td>\n",
       "      <td>0.000000</td>\n",
       "      <td>18.200000</td>\n",
       "      <td>0.078000</td>\n",
       "      <td>21.000000</td>\n",
       "      <td>0.000000</td>\n",
       "    </tr>\n",
       "    <tr>\n",
       "      <th>25%</th>\n",
       "      <td>1.000000</td>\n",
       "      <td>99.000000</td>\n",
       "      <td>64.000000</td>\n",
       "      <td>0.000000</td>\n",
       "      <td>0.000000</td>\n",
       "      <td>27.500000</td>\n",
       "      <td>0.245000</td>\n",
       "      <td>24.000000</td>\n",
       "      <td>0.000000</td>\n",
       "    </tr>\n",
       "    <tr>\n",
       "      <th>50%</th>\n",
       "      <td>3.000000</td>\n",
       "      <td>117.000000</td>\n",
       "      <td>72.000000</td>\n",
       "      <td>24.000000</td>\n",
       "      <td>46.000000</td>\n",
       "      <td>32.400000</td>\n",
       "      <td>0.378000</td>\n",
       "      <td>29.000000</td>\n",
       "      <td>0.000000</td>\n",
       "    </tr>\n",
       "    <tr>\n",
       "      <th>75%</th>\n",
       "      <td>6.000000</td>\n",
       "      <td>141.000000</td>\n",
       "      <td>80.000000</td>\n",
       "      <td>33.000000</td>\n",
       "      <td>130.000000</td>\n",
       "      <td>36.600000</td>\n",
       "      <td>0.627000</td>\n",
       "      <td>41.000000</td>\n",
       "      <td>1.000000</td>\n",
       "    </tr>\n",
       "    <tr>\n",
       "      <th>max</th>\n",
       "      <td>17.000000</td>\n",
       "      <td>199.000000</td>\n",
       "      <td>122.000000</td>\n",
       "      <td>99.000000</td>\n",
       "      <td>846.000000</td>\n",
       "      <td>67.100000</td>\n",
       "      <td>2.420000</td>\n",
       "      <td>81.000000</td>\n",
       "      <td>1.000000</td>\n",
       "    </tr>\n",
       "  </tbody>\n",
       "</table>\n",
       "</div>"
      ],
      "text/plain": [
       "       Pregnancies     Glucose  BloodPressure  SkinThickness     Insulin  \\\n",
       "count   729.000000  729.000000     729.000000     729.000000  729.000000   \n",
       "mean      3.858711  121.046639      72.367627      21.499314   83.946502   \n",
       "std       3.357468   32.255215      12.375838      15.708376  116.803000   \n",
       "min       0.000000    0.000000      24.000000       0.000000    0.000000   \n",
       "25%       1.000000   99.000000      64.000000       0.000000    0.000000   \n",
       "50%       3.000000  117.000000      72.000000      24.000000   46.000000   \n",
       "75%       6.000000  141.000000      80.000000      33.000000  130.000000   \n",
       "max      17.000000  199.000000     122.000000      99.000000  846.000000   \n",
       "\n",
       "              BMI  DiabetesPedigreeFunction         Age     Outcome  \n",
       "count  729.000000                729.000000  729.000000  729.000000  \n",
       "mean    32.469959                  0.474117   33.318244    0.344307  \n",
       "std      6.885098                  0.331649   11.753078    0.475468  \n",
       "min     18.200000                  0.078000   21.000000    0.000000  \n",
       "25%     27.500000                  0.245000   24.000000    0.000000  \n",
       "50%     32.400000                  0.378000   29.000000    0.000000  \n",
       "75%     36.600000                  0.627000   41.000000    1.000000  \n",
       "max     67.100000                  2.420000   81.000000    1.000000  "
      ]
     },
     "metadata": {},
     "execution_count": 62
    }
   ],
   "metadata": {}
  },
  {
   "cell_type": "code",
   "execution_count": 63,
   "source": [
    "# 13.8 Now perform once again all the steps in 8, 9, 10 and 11\r\n",
    "# 8. Calculate and report the mean the standard deviation of the BMI variable.\r\n",
    "bmi_mean = dataset.BMI.mean()\r\n",
    "bmi_std = dataset.BMI.std()\r\n",
    "print('BMI mean: ' + str(bmi_mean))\r\n",
    "print('BMI standard deviation: ' + str(bmi_std))\r\n",
    "# mean is now bigger, std is now less"
   ],
   "outputs": [
    {
     "output_type": "stream",
     "name": "stdout",
     "text": [
      "BMI mean: 32.46995884773663\n",
      "BMI standard deviation: 6.885098188024897\n"
     ]
    }
   ],
   "metadata": {}
  },
  {
   "cell_type": "code",
   "execution_count": 64,
   "source": [
    "# 13.9. By using the Chebysheffs Theorem infer what is the range for the BMI variable for 75% of the people in your dataset.\r\n",
    "#  What is the range for 89% of the people in your dataset.\r\n",
    "# 1) mean - (lower boundary) = within number\r\n",
    "# 2) mean - (upper boundary) = within number\r\n",
    "#  k - number of standard deviations\r\n",
    "#  k = the within number / std \r\n",
    "# wn = sqrt(1/(1-x))* std; x = percentage\r\n",
    "wn75 = np.sqrt(1/(1 - 75/100)) * bmi_std\r\n",
    "wn89 = np.sqrt(1/(1 - 89/100)) * bmi_std\r\n",
    "print(wn75)\r\n",
    "print('range for 75% is between '+ str(bmi_mean - wn75) + ' and ' + str(bmi_mean + wn75))\r\n",
    "print(wn89)\r\n",
    "print('range for 89% is between '+ str(bmi_mean - wn89) + ' and ' + str(bmi_mean + wn89))\r\n",
    "# as a result within numbers are smaller, the range also became smaller because zeros seemed to be just outliers that were spoiling the results"
   ],
   "outputs": [
    {
     "output_type": "stream",
     "name": "stdout",
     "text": [
      "13.770196376049794\n",
      "range for 75% is between 18.69976247168683 and 46.240155223786424\n",
      "20.75935212221311\n",
      "range for 89% is between 11.710606725523519 and 53.229310969949736\n"
     ]
    }
   ],
   "metadata": {}
  },
  {
   "cell_type": "code",
   "execution_count": 65,
   "source": [
    "# 13.10. Create a histogram for the BMI variable, plot the mean and meadian on the historgram to answer the following question:\r\n",
    "# a)\tIs the BMI distribution skewed based on the position of the mean versus the median?\r\n",
    "# b)\tCalculate the skewness of BMI\r\n",
    "# c)\tBased on the value of BMI median and on the chart below infer what percentage of people in your dataset are obese. (1.5pt)\r\n",
    "# create histogram\r\n",
    "plt.hist(dataset.BMI)\r\n",
    "plt.title('BMI histogram')\r\n",
    "plt.xlabel('BMI')\r\n",
    "plt.ylabel('Amount of people')\r\n",
    "bmi_median = np.median(dataset.BMI)\r\n",
    "print('BMI median = '+str(bmi_median))\r\n",
    "plt.axvline(bmi_mean, color='yellow', linestyle='-')\r\n",
    "plt.axvline(bmi_median, color='red', linestyle='-.')\r\n",
    "plt.rcParams['figure.figsize'] = [10, 5]\r\n",
    "plt.show()\r\n",
    "bmi_skewness = dataset.BMI.skew()\r\n",
    "print('BMI skewness = '+str(bmi_skewness))\r\n",
    "# c:\r\n",
    "# obese people are with bmi = 30 or higher\r\n",
    "print('there is this exact percantage of people with obesity: '+ str(len(dataset.BMI[dataset.BMI >= 30])/(len(dataset.BMI) / 100)))\r\n",
    "# skewness somehow is now positive and bigger, obesity without those zeroes also appears more often\r\n",
    "# mean and median differ more Now\r\n",
    "# how can skewness be bigger when i removed the outliers?..\r\n",
    "# also they are no longer on the highest bar, which is also weird for median I guess"
   ],
   "outputs": [
    {
     "output_type": "stream",
     "name": "stdout",
     "text": [
      "BMI median = 32.4\n"
     ]
    },
    {
     "output_type": "display_data",
     "data": {
      "image/png": "[encoded data removed]",
      "text/plain": [
       "<Figure size 720x360 with 1 Axes>"
      ]
     },
     "metadata": {
      "needs_background": "light"
     }
    },
    {
     "output_type": "stream",
     "name": "stdout",
     "text": [
      "BMI skewness = 0.5951875009633939\n",
      "there is this exact percantage of people with obesity: 62.55144032921811\n"
     ]
    }
   ],
   "metadata": {}
  },
  {
   "cell_type": "code",
   "execution_count": 66,
   "source": [
    "# 13.11. doing step 10 for blood pressure\r\n",
    "plt.hist(dataset.BloodPressure)\r\n",
    "plt.title('Blood pressure histogram')\r\n",
    "plt.xlabel('Blood pressure')\r\n",
    "plt.ylabel('Amount of people')\r\n",
    "blood_pressure_median = np.median(dataset.BloodPressure)\r\n",
    "blood_pressure_mean = np.mean(dataset.BloodPressure)\r\n",
    "print('Blood pressure median = '+str(blood_pressure_median))\r\n",
    "plt.axvline(blood_pressure_mean, color='yellow', linestyle='-')\r\n",
    "plt.axvline(blood_pressure_median, color='red', linestyle='-.')\r\n",
    "plt.rcParams['figure.figsize'] = [10, 5]\r\n",
    "plt.show()\r\n",
    "# a: distribution is skewed  on the mean more\r\n",
    "# b: calculate skewness, it is positive and also very small, therefore tails are on the right, so we should stick to mean\r\n",
    "#  skewness is pretty small here\r\n",
    "blood_pressure_skewness = dataset.BloodPressure.skew()\r\n",
    "print('Blood pressure skewness = '+str(blood_pressure_skewness))\r\n",
    "# c: obesity is not the thing here"
   ],
   "outputs": [
    {
     "output_type": "stream",
     "name": "stdout",
     "text": [
      "Blood pressure median = 72.0\n"
     ]
    },
    {
     "output_type": "display_data",
     "data": {
      "image/png": "[encoded data removed]",
      "text/plain": [
       "<Figure size 720x360 with 1 Axes>"
      ]
     },
     "metadata": {
      "needs_background": "light"
     }
    },
    {
     "output_type": "stream",
     "name": "stdout",
     "text": [
      "Blood pressure skewness = 0.13445955512111737\n"
     ]
    }
   ],
   "metadata": {}
  }
 ],
 "metadata": {
  "orig_nbformat": 4,
  "language_info": {
   "name": "python",
   "version": "3.9.7",
   "mimetype": "text/x-python",
   "codemirror_mode": {
    "name": "ipython",
    "version": 3
   },
   "pygments_lexer": "ipython3",
   "nbconvert_exporter": "python",
   "file_extension": ".py"
  },
  "kernelspec": {
   "name": "python3",
   "display_name": "Python 3.9.7 64-bit"
  },
  "interpreter": {
   "hash": "2b355ee983f23f4d0b28e90ea45b33537f29c12390fbee61533ba394cb277947"
  }
 },
 "nbformat": 4,
 "nbformat_minor": 2
}