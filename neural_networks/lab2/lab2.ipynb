{
 "cells": [
  {
   "cell_type": "markdown",
   "metadata": {},
   "source": [
    "    Laboratory 2\n",
    "    Scebec Mihai IS-211M\n",
    "\n",
    "\n",
    "1. Analyse the dataset : the context, size, difficulties, detect the objectives."
   ]
  },
  {
   "cell_type": "code",
   "execution_count": 157,
   "metadata": {},
   "outputs": [],
   "source": [
    "from sklearn.datasets import fetch_20newsgroups\n",
    "from pprint import pprint\n",
    "from sklearn.feature_extraction.text import CountVectorizer\n",
    "from sklearn.feature_extraction.text import TfidfTransformer\n",
    "import re\n",
    "from sklearn.naive_bayes import MultinomialNB\n",
    "from sklearn import metrics\n",
    "from sklearn.feature_extraction.text import TfidfVectorizer\n",
    "from nltk.tokenize import sent_tokenize, word_tokenize\n",
    "import warnings\n",
    "from gensim.models import Word2Vec\n",
    "from gensim.test.utils import common_texts\n",
    "import numpy as np\n",
    "import pandas as pd\n",
    "import matplotlib.pyplot as plt\n",
    "from sklearn.datasets import fetch_20newsgroups\n",
    "from sklearn.model_selection import train_test_split\n",
    "from time import time\n",
    "from sklearn.model_selection import GridSearchCV\n",
    "from sklearn.tree import DecisionTreeClassifier\n",
    "from sklearn.svm import SVC\n",
    "from sklearn.naive_bayes import MultinomialNB\n",
    "from multiprocessing import cpu_count\n",
    "from sklearn import feature_selection\n",
    "from keras.preprocessing.text import Tokenizer, text_to_word_sequence\n",
    "from keras.preprocessing.sequence import pad_sequences\n",
    "from tensorflow.keras.utils import to_categorical\n",
    "from keras.models import Model\n",
    "from keras.layers import Dense, Input, Flatten, Reshape, concatenate, Dropout\n",
    "from keras.layers import Conv1D, Conv2D, MaxPooling1D, MaxPooling2D, Embedding\n",
    "from keras import optimizers\n",
    "from keras.callbacks import EarlyStopping\n",
    "import tensorflow as tf"
   ]
  },
  {
   "cell_type": "code",
   "execution_count": 93,
   "metadata": {},
   "outputs": [
    {
     "name": "stdout",
     "output_type": "stream",
     "text": [
      "['alt.atheism',\n",
      " 'comp.graphics',\n",
      " 'comp.os.ms-windows.misc',\n",
      " 'comp.sys.ibm.pc.hardware',\n",
      " 'comp.sys.mac.hardware',\n",
      " 'comp.windows.x',\n",
      " 'misc.forsale',\n",
      " 'rec.autos',\n",
      " 'rec.motorcycles',\n",
      " 'rec.sport.baseball',\n",
      " 'rec.sport.hockey',\n",
      " 'sci.crypt',\n",
      " 'sci.electronics',\n",
      " 'sci.med',\n",
      " 'sci.space',\n",
      " 'soc.religion.christian',\n",
      " 'talk.politics.guns',\n",
      " 'talk.politics.mideast',\n",
      " 'talk.politics.misc',\n",
      " 'talk.religion.misc']\n"
     ]
    }
   ],
   "source": [
    "# context\n",
    "newsgroups_train = fetch_20newsgroups(subset='train', random_state=42, shuffle=True)\n",
    "pprint(list(newsgroups_train.target_names))"
   ]
  },
  {
   "cell_type": "code",
   "execution_count": 94,
   "metadata": {},
   "outputs": [
    {
     "name": "stdout",
     "output_type": "stream",
     "text": [
      "Number of files: 11314\n",
      "From: lerxst@wam.umd.edu (where's my thing)\n",
      "Subject: WHAT car is this!?\n",
      "Nntp-Posting-Host: rac3.wam.umd.edu\n",
      "rec.autos\n",
      "[ 7  4  4  1 14 16 13  3  2  4]\n",
      "rec.autos\n",
      "comp.sys.mac.hardware\n",
      "comp.sys.mac.hardware\n",
      "comp.graphics\n",
      "sci.space\n",
      "talk.politics.guns\n",
      "sci.med\n",
      "comp.sys.ibm.pc.hardware\n",
      "comp.os.ms-windows.misc\n",
      "comp.sys.mac.hardware\n",
      "====/====/====/====/\n",
      "Category alt.atheism has 480 records\n",
      "Category comp.graphics has 584 records\n",
      "Category comp.os.ms-windows.misc has 591 records\n",
      "Category comp.sys.ibm.pc.hardware has 590 records\n",
      "Category comp.sys.mac.hardware has 578 records\n",
      "Category comp.windows.x has 593 records\n",
      "Category misc.forsale has 585 records\n",
      "Category rec.autos has 594 records\n",
      "Category rec.motorcycles has 598 records\n",
      "Category rec.sport.baseball has 597 records\n",
      "Category rec.sport.hockey has 600 records\n",
      "Category sci.crypt has 595 records\n",
      "Category sci.electronics has 591 records\n",
      "Category sci.med has 594 records\n",
      "Category sci.space has 593 records\n",
      "Category soc.religion.christian has 599 records\n",
      "Category talk.politics.guns has 546 records\n",
      "Category talk.politics.mideast has 564 records\n",
      "Category talk.politics.misc has 465 records\n",
      "Category talk.religion.misc has 377 records\n"
     ]
    }
   ],
   "source": [
    "# size\n",
    "len(newsgroups_train.data)\n",
    "len(newsgroups_train.filenames)\n",
    "print(f\"Number of files: {len(newsgroups_train.filenames)}\")\n",
    "\n",
    "print(\"\\n\".join(newsgroups_train.data[0].split(\"\\n\")[:3]))\n",
    "print(newsgroups_train.target_names[newsgroups_train.target[0]])\n",
    "\n",
    "print(newsgroups_train.target[:10])\n",
    "for t in newsgroups_train.target[:10]:\n",
    "    print(newsgroups_train.target_names[t])\n",
    "print(\"====/====/====/====/\")\n",
    "for name in newsgroups_train.target_names:\n",
    "    news = fetch_20newsgroups(subset='train', categories=[name]).data\n",
    "    print(f\"Category {name} has {len(news)} records\")\n",
    "\n"
   ]
  },
  {
   "cell_type": "markdown",
   "metadata": {},
   "source": [
    "Difficulties and objectives? In progress"
   ]
  },
  {
   "cell_type": "markdown",
   "metadata": {},
   "source": [
    "1. Assign a fixed integer id to each word occurring in any document of the training\n",
    "set (for instance by building a dictionary from words to integer indices)."
   ]
  },
  {
   "cell_type": "markdown",
   "metadata": {},
   "source": [
    "Below I am trying to modify the data and to use bag of words.\n",
    "I'll start with lowering the case of all text and ignoring/removing frequent words."
   ]
  },
  {
   "cell_type": "code",
   "execution_count": 95,
   "metadata": {},
   "outputs": [
    {
     "name": "stdout",
     "output_type": "stream",
     "text": [
      "{0: 1, 1: 1, 2: 1, 3: 1, 4: 3, 5: 2, 6: 1, 7: 1, 8: 1, 9: 1, 10: 2, 11: 2, 12: 1, 13: 1, 14: 1, 15: 1, 16: 1, 17: 1, 18: 1, 19: 1, 20: 1, 21: 1, 22: 1, 23: 2, 24: 1, 25: 1, 26: 2, 27: 2, 28: 2, 29: 1, 30: 2, 31: 1, 32: 1, 33: 1, 34: 1, 35: 1, 36: 1, 37: 1, 38: 1, 39: 1, 40: 1, 41: 1, 42: 1, 43: 1, 44: 3, 45: 2, 46: 1, 47: 1, 48: 3, 49: 1, 50: 1, 51: 2, 52: 2, 53: 1, 54: 1, 55: 1, 56: 1, 57: 1, 58: 1, 59: 2, 60: 1, 61: 1, 62: 1, 63: 1, 64: 1, 65: 1, 66: 1, 67: 1, 68: 1, 69: 1, 70: 1, 71: 2, 72: 1, 73: 1, 74: 1, 75: 1, 76: 1, 77: 1, 78: 1, 79: 1, 80: 1, 81: 2, 82: 1, 83: 1, 84: 1, 85: 1, 86: 1, 87: 1, 88: 1, 89: 1, 90: 1, 91: 1, 92: 1, 93: 1, 94: 1, 95: 1, 96: 1, 97: 1, 98: 1, 99: 1, 100: 1}\n"
     ]
    }
   ],
   "source": [
    "# print(\"\\n\".join(newsgroups_train.data[0].split(\"\\n\")[:3]))\n",
    "common_words = ['the','at','there','some','my','of','be','use','her','than','and','this','an','would','first','a','have','each','make'\n",
    "                ,'water','to','from','which','like','been','in','or','she','him','call','is','one','do','into','who','you','had','how'\n",
    "                ,'time','oil','that','by','their','has','its','it','word','if','look','now','he','but','will','two','find','was','not'\n",
    "                ,'up','more','long','for','what','other','write','down','on','all','about','go','day','are','were','out','see','did'\n",
    "                ,'as','we','many','number','get','with','when','then','no','come','his','your','them','way','made']\n",
    "data_for_groups = []\n",
    "news_data = newsgroups_train[\"data\"]\n",
    "\n",
    "def filter_text_data(data):\n",
    "    filtered_data = [re.sub('\\n', ' ', new) for new in data]\n",
    "    filtered_data = [re.sub('\\t', ' ', new) for new in filtered_data]\n",
    "    filtered_data = [re.sub('\\r', ' ', new) for new in filtered_data]\n",
    "    filtered_data = [re.sub('\\a', ' ', new) for new in filtered_data]\n",
    "    filtered_data = [re.sub(r'[^\\w]', ' ', new) for new in filtered_data]\n",
    "    for word in common_words:\n",
    "        filtered_data = [new.replace(' '+word+' ', ' ') for new in filtered_data]\n",
    "    filtered_data = [new.lower() for new in filtered_data]\n",
    "    for d in filtered_data:\n",
    "        d = \" \".join([w for w in d.split() if w != \"\"])\n",
    "    # filtered_data = [new.strip() for new in filtered_data]\n",
    "    # didnt manage to make it work in time\n",
    "    return filtered_data\n",
    "\n",
    "# filtered_data = [re.sub(r'[^\\w]', ' ', new) for new in news_data]\n",
    "# for word in common_words:\n",
    "#     filtered_data = [new.replace(word, ' ') for new in filtered_data]\n",
    "# filtered_data = [new.lower() for new in filtered_data]\n",
    "# filtered data should be valid\n",
    "filtered_data = filter_text_data(news_data)\n",
    "\n",
    "for name, data in zip(newsgroups_train.target_names, newsgroups_train.data):\n",
    "    info_about_group = {}\n",
    "    info_about_group['name'] = name\n",
    "    info_about_group['word_dict'] = {}\n",
    "    info_about_group['word_occurence'] = {}\n",
    "    info_about_group['word_occurence_indexes_and_occurences'] = {}\n",
    "    data = re.sub(r'[^\\w]', ' ', data)\n",
    "    data = data.lower()\n",
    "    integer = 0\n",
    "    \n",
    "\n",
    "    reversed_word_occurence_dict = {}\n",
    "    for word in data.split(' '):\n",
    "        if word and len(word)>1:\n",
    "            if word not in info_about_group['word_dict'] and word not in common_words:\n",
    "                    info_about_group['word_dict'][word] = integer\n",
    "                    integer += 1\n",
    "\n",
    "    for word in info_about_group['word_dict']:\n",
    "        info_about_group['word_occurence'][word] = 0\n",
    "\n",
    "    for word in data.split(' '):\n",
    "        if word and len(word)>1:\n",
    "            if word in info_about_group['word_dict']:\n",
    "                info_about_group['word_occurence'][word] += 1\n",
    "    data_for_groups.append(info_about_group)\n",
    "\n",
    "    for integer, occurence in zip(info_about_group['word_dict'].values(), info_about_group['word_occurence'].values()):\n",
    "        info_about_group['word_occurence_indexes_and_occurences'][integer] = occurence\n",
    "\n",
    "print(data_for_groups[4]['word_occurence_indexes_and_occurences'])\n",
    "\n",
    "\n"
   ]
  },
  {
   "cell_type": "code",
   "execution_count": 96,
   "metadata": {},
   "outputs": [
    {
     "name": "stdout",
     "output_type": "stream",
     "text": [
      "(11314, 130107)\n",
      "27366\n"
     ]
    }
   ],
   "source": [
    "# I guess we are counting words now with some pre-built functions\n",
    "count_vect = CountVectorizer()\n",
    "X_train_counts = count_vect.fit_transform(filtered_data)\n",
    "print(X_train_counts.shape)\n",
    "print(count_vect.vocabulary_.get(u'algorithm'))"
   ]
  },
  {
   "cell_type": "code",
   "execution_count": 97,
   "metadata": {},
   "outputs": [
    {
     "data": {
      "text/plain": [
       "0.8299999321458893"
      ]
     },
     "execution_count": 97,
     "metadata": {},
     "output_type": "execute_result"
    }
   ],
   "source": [
    "# as my friend suggested to try tfid tgransform as well, because words frequency can be better than just word count\n",
    "tfidf_transformer = TfidfTransformer()\n",
    "X_train_tfidf = tfidf_transformer.fit_transform(X_train_counts)\n",
    "# this is an example with formatted data\n",
    "tfidf_vectorizer = TfidfVectorizer()\n",
    "vectors = tfidf_vectorizer.fit_transform(filtered_data)\n",
    "# So, if we use already defined functions to vectorize, fit and predict, here it is\n",
    "newsgroups_test = fetch_20newsgroups(subset='test', random_state=42, shuffle=True)\n",
    "vectors_test = tfidf_vectorizer.transform(filter_text_data(newsgroups_test.data))\n",
    "clf = MultinomialNB(alpha=.01)\n",
    "clf.fit(vectors, newsgroups_train.target)\n",
    "pred = clf.predict(vectors_test)\n",
    "metrics.f1_score(newsgroups_test.target, pred, average='macro')"
   ]
  },
  {
   "cell_type": "code",
   "execution_count": 98,
   "metadata": {},
   "outputs": [
    {
     "data": {
      "text/plain": [
       "0.8290659644474043"
      ]
     },
     "execution_count": 98,
     "metadata": {},
     "output_type": "execute_result"
    }
   ],
   "source": [
    "# When the torture is done, let's stick to predefined functions\n",
    "# this is an example with original data\n",
    "vectorizer = TfidfVectorizer()\n",
    "vectors = vectorizer.fit_transform(newsgroups_train.data)\n",
    "# So, if we use already defined functions to vectorize, fit and predict, here it is\n",
    "newsgroups_test = fetch_20newsgroups(subset='test', random_state=42, shuffle=True)\n",
    "vectors_test = vectorizer.transform(newsgroups_test.data)\n",
    "clf = MultinomialNB(alpha=.01)\n",
    "clf.fit(vectors, newsgroups_train.target)\n",
    "pred = clf.predict(vectors_test)\n",
    "metrics.f1_score(newsgroups_test.target, pred, average='macro')\n",
    "# overall, not worth the fuzz"
   ]
  },
  {
   "cell_type": "markdown",
   "metadata": {},
   "source": [
    "Trying different embedding techniques?\n",
    "\n",
    "I won't even pretend that I had time to work and properly test all these, I googled as many examples as I could and hopefully made them work\n",
    "\n",
    "In the lab doc there were mentioned word2vec, FastText, document2vec, BERT, Glove."
   ]
  },
  {
   "cell_type": "code",
   "execution_count": 159,
   "metadata": {},
   "outputs": [],
   "source": [
    "fs = feature_selection.SelectPercentile(feature_selection.chi2, percentile=40)\n",
    "EMBEDDING_DIM = 100\n",
    "MAX_SEQUENCE_LENGTH = 1000\n",
    "MAX_NUM_WORDS = 20000\n",
    "\n",
    "def text_CNN(embedding_layer):\n",
    "    sequence_input = Input(shape=(MAX_LEN,), dtype='int32')\n",
    "    embedded_sequences = embedding_layer(sequence_input)\n",
    "   \n",
    "    # Yoon Kim model (https://arxiv.org/abs/1408.5882)\n",
    "    \n",
    "    embedded_sequences = Reshape((MAX_LEN, EMBEDDING_DIM, 1))(embedded_sequences)\n",
    "    x = Conv2D(100, (5, EMBEDDING_DIM), activation='relu')(embedded_sequences)\n",
    "    x = MaxPooling2D((MAX_LEN - 5 + 1, 1))(x)\n",
    "\n",
    "    y = Conv2D(100, (4, EMBEDDING_DIM), activation='relu')(embedded_sequences)\n",
    "    y = MaxPooling2D((MAX_LEN - 4 + 1, 1))(y)\n",
    "\n",
    "    z = Conv2D(100, (3, EMBEDDING_DIM), activation='relu')(embedded_sequences)\n",
    "    z = MaxPooling2D((MAX_LEN - 3 + 1, 1))(z)\n",
    "\n",
    "    alpha = concatenate([x,y,z])\n",
    "    alpha = Flatten()(alpha)\n",
    "    alpha = Dropout(0.5)(alpha)\n",
    "    preds = Dense(len(news_groups_train.target_names), activation='softmax')(alpha)\n",
    "    model = Model(sequence_input, preds)\n",
    "    adadelta = tf.optimizers.Adadelta()\n",
    "        \n",
    "    model.compile(loss='categorical_crossentropy',\n",
    "                  optimizer=adadelta,\n",
    "                  metrics=['acc'])\n",
    "    return model\n",
    "\n",
    "def show_history(history):\n",
    "    plt.plot(history['acc'])\n",
    "    plt.plot(history['val_acc'])\n",
    "    plt.title('model accuracy')\n",
    "    plt.ylabel('accuracy')\n",
    "    plt.xlabel('epoch')\n",
    "    plt.legend(['train', 'test'], loc='upper left')\n",
    "    plt.show()\n",
    "    # summarize history for loss\n",
    "    plt.plot(history['loss'])\n",
    "    plt.plot(history['val_loss'])\n",
    "    plt.title('model loss')\n",
    "    plt.ylabel('loss')\n",
    "    plt.xlabel('epoch')\n",
    "    plt.legend(['train', 'test'], loc='upper left')\n",
    "    plt.show()\n",
    "\n",
    "def show_performance_with_gscv(name, model, x_train, y_train, params):\n",
    "    results = {}\n",
    "    results['model_name'] = name\n",
    "    gscv = GridSearchCV(model, params, cv=3, n_jobs=cpu_count()-1, return_train_score=True)\n",
    "#     x_train_fs = fs.fit_transform(x_train, y_train)\n",
    "    \n",
    "    gscv.fit(x_train, y_train)\n",
    "    \n",
    "    results['params'] = gscv.best_params_\n",
    "    results['train_time'] = np.mean(gscv.cv_results_['mean_fit_time'])\n",
    "    results['val_time'] = np.mean(gscv.cv_results_['mean_score_time'])\n",
    "    results['train_score'] = gscv.cv_results_['mean_train_score'][gscv.best_index_]\n",
    "    \n",
    "    # it is get fro train data set, could be taken as a val result\n",
    "    results['val_score'] = gscv.cv_results_['mean_test_score'][gscv.best_index_]\n",
    "    \n",
    "    results['best_model'] = gscv.best_estimator_\n",
    "    \n",
    "    return results\n",
    "\n",
    "def show_distributation(data):\n",
    "    dict = {}\n",
    "    for index, name in enumerate(news_groups_train.target_names):\n",
    "        dict.setdefault(name, np.sum(data==index))\n",
    "    print(dict)\n",
    "    print(dict.keys())\n",
    "    print(dict.values())\n",
    "    \n",
    "    index = np.arange(len(news_groups_train.target_names))\n",
    "    plt.figure(figsize=(10,5))\n",
    "    plt.bar(index, dict.values())\n",
    "    plt.xticks(index, dict.keys(), rotation=90)\n",
    "    plt.title(\"category distributation\")\n",
    "    plt.xlabel(\"data count\")\n",
    "    plt.ylabel(\"data category\")\n",
    "    plt.show()\n",
    "\n",
    "def show_performance(model, x_train, y_train, x_val, y_val):    \n",
    "    results = {}\n",
    "    results['model_name'] = model.__class__.__name__\n",
    "    t0 = time()\n",
    "    model.fit(x_train, y_train)\n",
    "    results['train_time'] = time() - t0\n",
    "    t1 = time()\n",
    "    predicts = model.predict(x_train)\n",
    "    results['val_time'] = time() - t1\n",
    "    train_score = model.score(x_train, y_train)\n",
    "    val_score = model.score(x_val, y_val)\n",
    "    results['train_score'] = train_score\n",
    "    results['val_score'] = val_score\n",
    "    print(results)\n",
    "\n",
    "\n",
    "def show_words(data):\n",
    "    count = []\n",
    "    for f in data:\n",
    "        count.append(len(f.split()))\n",
    "    plt.figure(figsize=(10,5))\n",
    "    plt.hist(count, bins=20)\n",
    "    plt.title(\"words distributation\")\n",
    "    plt.xlabel(\"words count\")\n",
    "    plt.ylabel(\"words weight\")\n",
    "    plt.show()\n",
    "    \n",
    "def show_chars(data):\n",
    "    count = []\n",
    "    for f in data:\n",
    "        count.append(len(f))\n",
    "    plt.figure(figsize=(10,5))\n",
    "    plt.hist(count, bins=20)\n",
    "    plt.title(\"chars distributation\")\n",
    "    plt.xlabel(\"chars count\")\n",
    "    plt.ylabel(\"chars count\")\n",
    "    plt.show()\n",
    "\n",
    "def autolabel(ax, rects, xpos='center'):\n",
    "        xpos = xpos.lower()  # normalize the case of the parameter\n",
    "        ha = {'center': 'center', 'right': 'left', 'left': 'right'}\n",
    "        offset = {'center': 0.5, 'right': 0.57, 'left': 0.43}  # x_txt = x + w*off\n",
    "\n",
    "        for rect in rects:\n",
    "            height = rect.get_height()\n",
    "            ax.text(rect.get_x() + rect.get_width()*offset[xpos], 1.01*height,\n",
    "                    '{}'.format(height), ha=ha[xpos], va='bottom')\n",
    "            \n",
    "def show_metrics(rs_lr, rs_svc, rs_nb):\n",
    "    train_time = (rs_lr['train_time'], rs_svc['train_time'], rs_nb['train_time'])\n",
    "    val_time = (rs_lr['val_time'], rs_svc['val_time'], rs_nb['val_time'])\n",
    "    \n",
    "    train_score = (rs_lr['train_score'], rs_svc['train_score'], rs_nb['train_score'])\n",
    "    val_score = (rs_lr['val_score'], rs_svc['val_score'], rs_nb['val_score'])\n",
    "\n",
    "    ind = np.arange(len(train_time))  # the x locations for the groups\n",
    "    width = 0.35  # the width of the bars\n",
    "\n",
    "    fig, ax0 = plt.subplots(1, 1, figsize = (16,5))\n",
    "    \n",
    "    rects1 = ax0.bar(ind - width/2, train_time, width,\n",
    "                    color='SkyBlue', label='train time')\n",
    "    rects2 = ax0.bar(ind + width/2, val_time, width,\n",
    "                    color='IndianRed', label='val time')\n",
    "\n",
    "    # Add some text for labels, title and custom x-axis tick labels, etc.\n",
    "    ax0.set_ylabel('time')\n",
    "    ax0.set_title('time by train and val')\n",
    "    ax0.set_xticks(ind)\n",
    "    ax0.set_xticklabels(('LogisticRegression', 'SVC', 'NaiveBayes'))\n",
    "    ax0.legend()\n",
    "    autolabel(ax0, rects1, \"left\")\n",
    "    autolabel(ax0, rects2, \"right\")\n",
    "    plt.show()\n",
    "    \n",
    "    fig, ax1 = plt.subplots(1, 1, figsize = (16,5))\n",
    "    \n",
    "    rects3 = ax1.bar(ind - width/2, train_score, width,\n",
    "                    color='SkyBlue', label='train score')\n",
    "    rects4 = ax1.bar(ind + width/2, val_score, width,\n",
    "                    color='IndianRed', label='val score')\n",
    "    ax1.set_ylabel('Scores')\n",
    "    ax1.set_title('Scores by train and val')\n",
    "    ax1.set_xticks(ind)\n",
    "    ax1.set_xticklabels(('LogisticRegression', 'SVC', 'NaiveBayes'))\n",
    "    ax1.legend()\n",
    "    autolabel(ax1, rects3, \"left\")\n",
    "    autolabel(ax1, rects4, \"right\")\n",
    "    plt.show()"
   ]
  },
  {
   "cell_type": "code",
   "execution_count": 106,
   "metadata": {},
   "outputs": [],
   "source": [
    "# let's start all over again then\n",
    "news_groups_train = fetch_20newsgroups(subset='train', shuffle=True, download_if_missing=False)\n",
    "news_groups_test = fetch_20newsgroups(subset='test', shuffle=True, download_if_missing=False)\n",
    "filtered_train = filter_text_data(news_groups_train.data)\n",
    "filtered_test = filter_text_data(news_groups_test.data)\n",
    "x_train, y_train = filtered_train, news_groups_train.target\n",
    "x_sp_train, x_sp_val, y_sp_train, y_sp_val = train_test_split(x_train, y_train, test_size=0.2, random_state=0)\n",
    "x_test, y_test = filtered_train, news_groups_test.target"
   ]
  },
  {
   "cell_type": "code",
   "execution_count": 107,
   "metadata": {},
   "outputs": [
    {
     "name": "stdout",
     "output_type": "stream",
     "text": [
      "count for data in 20 news groups 9051 2263 11314\n",
      "count for train and validation data in 20 news groups 11314  and for test data 11314\n",
      "count for train data in 20 news groups 9051\n",
      "count for validation data in 20 news groups 2263\n",
      "count for test data in 20 news groups 11314\n"
     ]
    }
   ],
   "source": [
    "print(\"count for data in 20 news groups\", len(x_sp_train), len(x_sp_val), len(x_test))\n",
    "print(\"count for train and validation data in 20 news groups\", len(x_sp_train) + len(x_sp_val), \" and for test data\", len(x_test))\n",
    "print(\"count for train data in 20 news groups\", len(x_sp_train))\n",
    "print(\"count for validation data in 20 news groups\", len(x_sp_val))\n",
    "print(\"count for test data in 20 news groups\", len(x_test))"
   ]
  },
  {
   "cell_type": "code",
   "execution_count": 108,
   "metadata": {},
   "outputs": [
    {
     "name": "stdout",
     "output_type": "stream",
     "text": [
      "from  djf cck coventry ac uk  marvin batty  subject  re  moonbase race nntp posting host  cc_sysk organization  starfleet  coventry  uk lines  22  in article  1r46o9inn14j mojo eng umd edu  sysmgr king eng umd edu writes   in article  c5teik 7z9 zoo toronto edu   henry zoo toronto edu  henry spencer  writes      apollo done hard  big hurry  very limited   technology base    government contracts   just doing privately    rather government project  cuts costs factor several     so much cost private venture  assuming could talk  u s  government leasing couple pads florida     why ground launch pad  it entirely posible launch altitude  this shuttle originally intended  it might seriously cheaper    also  bio engineered co2 absorbing plants instead lox bottles  stick  em lunar cave put airlock door                                                                                                        marvin batty   djf uk ac cov cck  and they shall those things  sort rafia base  fathers put just night before  at 8 o clock   \n"
     ]
    }
   ],
   "source": [
    "print(x_sp_train[10])"
   ]
  },
  {
   "cell_type": "code",
   "execution_count": 114,
   "metadata": {},
   "outputs": [
    {
     "name": "stdout",
     "output_type": "stream",
     "text": [
      "{'alt.atheism': 392, 'comp.graphics': 456, 'comp.os.ms-windows.misc': 478, 'comp.sys.ibm.pc.hardware': 462, 'comp.sys.mac.hardware': 458, 'comp.windows.x': 473, 'misc.forsale': 480, 'rec.autos': 477, 'rec.motorcycles': 470, 'rec.sport.baseball': 478, 'rec.sport.hockey': 485, 'sci.crypt': 465, 'sci.electronics': 469, 'sci.med': 495, 'sci.space': 471, 'soc.religion.christian': 472, 'talk.politics.guns': 431, 'talk.politics.mideast': 452, 'talk.politics.misc': 385, 'talk.religion.misc': 302}\n",
      "dict_keys(['alt.atheism', 'comp.graphics', 'comp.os.ms-windows.misc', 'comp.sys.ibm.pc.hardware', 'comp.sys.mac.hardware', 'comp.windows.x', 'misc.forsale', 'rec.autos', 'rec.motorcycles', 'rec.sport.baseball', 'rec.sport.hockey', 'sci.crypt', 'sci.electronics', 'sci.med', 'sci.space', 'soc.religion.christian', 'talk.politics.guns', 'talk.politics.mideast', 'talk.politics.misc', 'talk.religion.misc'])\n",
      "dict_values([392, 456, 478, 462, 458, 473, 480, 477, 470, 478, 485, 465, 469, 495, 471, 472, 431, 452, 385, 302])\n"
     ]
    },
    {
     "data": {
      "image/png": "[encoded data removed]",
      "text/plain": [
       "<Figure size 720x360 with 1 Axes>"
      ]
     },
     "metadata": {
      "needs_background": "light"
     },
     "output_type": "display_data"
    }
   ],
   "source": [
    "show_distributation(y_sp_train)"
   ]
  },
  {
   "cell_type": "code",
   "execution_count": 115,
   "metadata": {},
   "outputs": [
    {
     "name": "stdout",
     "output_type": "stream",
     "text": [
      "{'alt.atheism': 88, 'comp.graphics': 128, 'comp.os.ms-windows.misc': 113, 'comp.sys.ibm.pc.hardware': 128, 'comp.sys.mac.hardware': 120, 'comp.windows.x': 120, 'misc.forsale': 105, 'rec.autos': 117, 'rec.motorcycles': 128, 'rec.sport.baseball': 119, 'rec.sport.hockey': 115, 'sci.crypt': 130, 'sci.electronics': 122, 'sci.med': 99, 'sci.space': 122, 'soc.religion.christian': 127, 'talk.politics.guns': 115, 'talk.politics.mideast': 112, 'talk.politics.misc': 80, 'talk.religion.misc': 75}\n",
      "dict_keys(['alt.atheism', 'comp.graphics', 'comp.os.ms-windows.misc', 'comp.sys.ibm.pc.hardware', 'comp.sys.mac.hardware', 'comp.windows.x', 'misc.forsale', 'rec.autos', 'rec.motorcycles', 'rec.sport.baseball', 'rec.sport.hockey', 'sci.crypt', 'sci.electronics', 'sci.med', 'sci.space', 'soc.religion.christian', 'talk.politics.guns', 'talk.politics.mideast', 'talk.politics.misc', 'talk.religion.misc'])\n",
      "dict_values([88, 128, 113, 128, 120, 120, 105, 117, 128, 119, 115, 130, 122, 99, 122, 127, 115, 112, 80, 75])\n"
     ]
    },
    {
     "data": {
      "image/png": "[encoded data removed]",
      "text/plain": [
       "<Figure size 720x360 with 1 Axes>"
      ]
     },
     "metadata": {
      "needs_background": "light"
     },
     "output_type": "display_data"
    }
   ],
   "source": [
    "show_distributation(y_sp_val)"
   ]
  },
  {
   "cell_type": "code",
   "execution_count": 116,
   "metadata": {},
   "outputs": [
    {
     "name": "stdout",
     "output_type": "stream",
     "text": [
      "{'alt.atheism': 319, 'comp.graphics': 389, 'comp.os.ms-windows.misc': 394, 'comp.sys.ibm.pc.hardware': 392, 'comp.sys.mac.hardware': 385, 'comp.windows.x': 395, 'misc.forsale': 390, 'rec.autos': 396, 'rec.motorcycles': 398, 'rec.sport.baseball': 397, 'rec.sport.hockey': 399, 'sci.crypt': 396, 'sci.electronics': 393, 'sci.med': 396, 'sci.space': 394, 'soc.religion.christian': 398, 'talk.politics.guns': 364, 'talk.politics.mideast': 376, 'talk.politics.misc': 310, 'talk.religion.misc': 251}\n",
      "dict_keys(['alt.atheism', 'comp.graphics', 'comp.os.ms-windows.misc', 'comp.sys.ibm.pc.hardware', 'comp.sys.mac.hardware', 'comp.windows.x', 'misc.forsale', 'rec.autos', 'rec.motorcycles', 'rec.sport.baseball', 'rec.sport.hockey', 'sci.crypt', 'sci.electronics', 'sci.med', 'sci.space', 'soc.religion.christian', 'talk.politics.guns', 'talk.politics.mideast', 'talk.politics.misc', 'talk.religion.misc'])\n",
      "dict_values([319, 389, 394, 392, 385, 395, 390, 396, 398, 397, 399, 396, 393, 396, 394, 398, 364, 376, 310, 251])\n"
     ]
    },
    {
     "data": {
      "image/png": "[encoded data removed]",
      "text/plain": [
       "<Figure size 720x360 with 1 Axes>"
      ]
     },
     "metadata": {
      "needs_background": "light"
     },
     "output_type": "display_data"
    }
   ],
   "source": [
    "show_distributation(y_test)"
   ]
  },
  {
   "cell_type": "code",
   "execution_count": 118,
   "metadata": {},
   "outputs": [
    {
     "data": {
      "image/png": "[encoded data removed]",
      "text/plain": [
       "<Figure size 720x360 with 1 Axes>"
      ]
     },
     "metadata": {
      "needs_background": "light"
     },
     "output_type": "display_data"
    }
   ],
   "source": [
    "show_words(x_sp_train)"
   ]
  },
  {
   "cell_type": "code",
   "execution_count": 119,
   "metadata": {},
   "outputs": [
    {
     "data": {
      "image/png": "[encoded data removed]",
      "text/plain": [
       "<Figure size 720x360 with 1 Axes>"
      ]
     },
     "metadata": {
      "needs_background": "light"
     },
     "output_type": "display_data"
    }
   ],
   "source": [
    "show_chars(x_sp_train)"
   ]
  },
  {
   "cell_type": "code",
   "execution_count": 124,
   "metadata": {},
   "outputs": [
    {
     "name": "stdout",
     "output_type": "stream",
     "text": [
      "  (0, 3690)\t5\n",
      "  (0, 11963)\t1\n",
      "  (0, 31540)\t1\n",
      "  (0, 27447)\t2\n",
      "  (0, 17044)\t2\n",
      "  (0, 29875)\t1\n",
      "  (0, 4835)\t3\n",
      "  (0, 9808)\t2\n",
      "  (0, 843)\t1\n",
      "  (0, 22261)\t1\n",
      "  (0, 3992)\t1\n",
      "  (0, 8554)\t1\n",
      "  (0, 18156)\t1\n",
      "  (0, 15031)\t2\n",
      "  (0, 31245)\t1\n",
      "  (0, 2317)\t1\n",
      "  (0, 1364)\t1\n",
      "  (0, 1229)\t1\n",
      "  (0, 21345)\t2\n",
      "  (0, 27183)\t1\n",
      "  (0, 30910)\t2\n",
      "  (0, 11617)\t4\n",
      "  (0, 29670)\t1\n",
      "  (0, 22295)\t1\n",
      "  (0, 21824)\t1\n",
      "  :\t:\n",
      "  (9050, 4638)\t1\n",
      "  (9050, 10294)\t1\n",
      "  (9050, 19577)\t1\n",
      "  (9050, 30051)\t1\n",
      "  (9050, 10748)\t1\n",
      "  (9050, 19840)\t1\n",
      "  (9050, 6631)\t1\n",
      "  (9050, 27999)\t1\n",
      "  (9050, 7654)\t1\n",
      "  (9050, 21566)\t1\n",
      "  (9050, 5957)\t1\n",
      "  (9050, 32212)\t1\n",
      "  (9050, 3705)\t1\n",
      "  (9050, 22290)\t1\n",
      "  (9050, 19412)\t3\n",
      "  (9050, 32680)\t2\n",
      "  (9050, 8257)\t1\n",
      "  (9050, 23391)\t1\n",
      "  (9050, 1058)\t1\n",
      "  (9050, 28860)\t1\n",
      "  (9050, 30371)\t1\n",
      "  (9050, 19568)\t1\n",
      "  (9050, 18984)\t1\n",
      "  (9050, 3639)\t1\n",
      "  (9050, 29399)\t1\n"
     ]
    }
   ],
   "source": [
    "vectorizer = CountVectorizer(max_df=0.97, min_df=3,\n",
    "                                max_features=None,\n",
    "                                stop_words='english')\n",
    "vec_x_train = vectorizer.fit_transform(x_sp_train)\n",
    "print(vec_x_train)"
   ]
  },
  {
   "cell_type": "code",
   "execution_count": 126,
   "metadata": {},
   "outputs": [
    {
     "name": "stdout",
     "output_type": "stream",
     "text": [
      "(9051, 49254)\n",
      "(2263, 49254)\n",
      "(11314, 49254)\n",
      "(11314, 49254)\n",
      "  (0, 9116)\t0.056491052833452474\n",
      "  (0, 34277)\t0.04662122636448474\n",
      "  (0, 25839)\t0.029071277436323498\n",
      "  (0, 13630)\t0.04171413543167023\n",
      "  (0, 29653)\t0.03719398081328389\n",
      "  (0, 47241)\t0.04177266299213154\n",
      "  (0, 48009)\t0.03232820196590292\n",
      "  (0, 42799)\t0.02561667902683956\n",
      "  (0, 19420)\t0.05613332709226455\n",
      "  (0, 40026)\t0.04463461887716532\n",
      "  (0, 17118)\t0.04231949622189823\n",
      "  (0, 9722)\t0.030022167402050087\n",
      "  (0, 10778)\t0.04446868507902601\n",
      "  (0, 4910)\t0.04515399289011522\n",
      "  (0, 711)\t0.028188317553190602\n",
      "  (0, 7725)\t0.047409724101704874\n",
      "  (0, 48744)\t0.06570650973827732\n",
      "  (0, 27696)\t0.06570650973827732\n",
      "  (0, 23140)\t0.054550300194369725\n",
      "  (0, 32647)\t0.04640943771810875\n",
      "  (0, 10028)\t0.04008334872539442\n",
      "  (0, 38364)\t0.05905381053775964\n",
      "  (0, 38113)\t0.04941528920460408\n",
      "  (0, 44336)\t0.06368405584829383\n",
      "  (0, 20580)\t0.04662122636448474\n",
      "  :\t:\n",
      "  (9050, 29458)\t0.09724489890799684\n",
      "  (9050, 34208)\t0.09556894303914447\n",
      "  (9050, 14019)\t0.08644382769668345\n",
      "  (9050, 39479)\t0.06781207907935104\n",
      "  (9050, 35357)\t0.11333879604507721\n",
      "  (9050, 19331)\t0.06618916011475832\n",
      "  (9050, 9693)\t0.1749338046761834\n",
      "  (9050, 13350)\t0.08969332407918375\n",
      "  (9050, 3760)\t0.07453979592812678\n",
      "  (9050, 12840)\t0.09579956696872671\n",
      "  (9050, 45312)\t0.21115512707726367\n",
      "  (9050, 11441)\t0.07742056182295792\n",
      "  (9050, 955)\t0.06618916011475832\n",
      "  (9050, 25661)\t0.08567666819187841\n",
      "  (9050, 36577)\t0.10481938305900954\n",
      "  (9050, 15292)\t0.08441994913598402\n",
      "  (9050, 21419)\t0.139466985471834\n",
      "  (9050, 26764)\t0.042786001325232935\n",
      "  (9050, 34062)\t0.2814529122274608\n",
      "  (9050, 35003)\t0.06123371270751186\n",
      "  (9050, 48772)\t0.060893577417441294\n",
      "  (9050, 14576)\t0.1169052846737264\n",
      "  (9050, 48069)\t0.03198287550425969\n",
      "  (9050, 17617)\t0.05464361185990329\n",
      "  (9050, 33136)\t0.019918369908204083\n"
     ]
    }
   ],
   "source": [
    "tfidf_vectorizer = TfidfVectorizer(max_df=0.97, min_df=2,\n",
    "                                max_features=None,\n",
    "                                stop_words='english')\n",
    "\n",
    "tfidf_x_sp_train = tfidf_vectorizer.fit_transform(x_sp_train)\n",
    "tfidf_x_sp_val = tfidf_vectorizer.transform(x_sp_val)\n",
    "\n",
    "tfidf_x_train = tfidf_vectorizer.transform(x_train)\n",
    "tfidf_x_test = tfidf_vectorizer.transform(x_test)\n",
    "\n",
    "print(tfidf_x_sp_train.shape)\n",
    "print(tfidf_x_sp_val.shape)\n",
    "print(tfidf_x_train.shape)\n",
    "print(tfidf_x_test.shape)\n",
    "\n",
    "print(tfidf_x_sp_train)"
   ]
  },
  {
   "cell_type": "code",
   "execution_count": 132,
   "metadata": {},
   "outputs": [],
   "source": [
    "# make word2vec model\n",
    "model = Word2Vec(sentences=common_texts, vector_size=100, window=5, min_count=1, workers=4)\n",
    "model.save(\"word2vec.model\")"
   ]
  },
  {
   "cell_type": "code",
   "execution_count": 133,
   "metadata": {},
   "outputs": [
    {
     "name": "stdout",
     "output_type": "stream",
     "text": [
      "{'model_name': 'LogisticRegression', 'train_time': 13.854101181030273, 'val_time': 0.01900005340576172, 'train_score': 0.9791183294663574, 'val_score': 0.8992487847989394}\n"
     ]
    }
   ],
   "source": [
    "lr = LogisticRegression(C=1.0, penalty='l2')\n",
    "show_performance(lr, tfidf_x_sp_train, y_sp_train, tfidf_x_sp_val, y_sp_val)"
   ]
  },
  {
   "cell_type": "code",
   "execution_count": 134,
   "metadata": {},
   "outputs": [
    {
     "name": "stdout",
     "output_type": "stream",
     "text": [
      "{'model_name': 'SVC', 'train_time': 68.07835531234741, 'val_time': 55.86075687408447, 'train_score': 0.9824328803447133, 'val_score': 0.9032258064516129}\n"
     ]
    }
   ],
   "source": [
    "svc = SVC(kernel='linear', C=0.5, gamma=0.9, random_state=0)\n",
    "show_performance(svc, tfidf_x_sp_train, y_sp_train, tfidf_x_sp_val, y_sp_val)"
   ]
  },
  {
   "cell_type": "code",
   "execution_count": 138,
   "metadata": {},
   "outputs": [
    {
     "name": "stdout",
     "output_type": "stream",
     "text": [
      "{'model_name': 'MultinomialNB', 'train_time': 0.04699373245239258, 'val_time': 0.021004676818847656, 'train_score': 0.9712738923875814, 'val_score': 0.891736632788334}\n"
     ]
    }
   ],
   "source": [
    "gnb = MultinomialNB(alpha=0.5)\n",
    "show_performance(gnb, tfidf_x_sp_train, y_sp_train, tfidf_x_sp_val, y_sp_val)"
   ]
  },
  {
   "cell_type": "code",
   "execution_count": 139,
   "metadata": {},
   "outputs": [
    {
     "name": "stdout",
     "output_type": "stream",
     "text": [
      "{'model_name': 'LogisticRegression', 'params': {'C': 3}, 'train_time': 45.50942958725824, 'val_time': 0.04247893227471245, 'train_score': 0.995359719569556, 'val_score': 0.9040129370025326, 'best_model': LogisticRegression(C=3)}\n"
     ]
    },
    {
     "name": "stderr",
     "output_type": "stream",
     "text": [
      "c:\\Users\\otaku\\AppData\\Local\\Programs\\Python\\Python39\\lib\\site-packages\\sklearn\\linear_model\\_logistic.py:814: ConvergenceWarning: lbfgs failed to converge (status=1):\n",
      "STOP: TOTAL NO. of ITERATIONS REACHED LIMIT.\n",
      "\n",
      "Increase the number of iterations (max_iter) or scale the data as shown in:\n",
      "    https://scikit-learn.org/stable/modules/preprocessing.html\n",
      "Please also refer to the documentation for alternative solver options:\n",
      "    https://scikit-learn.org/stable/modules/linear_model.html#logistic-regression\n",
      "  n_iter_i = _check_optimize_result(\n"
     ]
    }
   ],
   "source": [
    "params = {'C': [0.01, 1, 3]}\n",
    "rs_lr = show_performance_with_gscv('LogisticRegression', LogisticRegression(penalty='l2'), tfidf_x_train, y_train, params)\n",
    "print(rs_lr)"
   ]
  },
  {
   "cell_type": "code",
   "execution_count": 141,
   "metadata": {},
   "outputs": [
    {
     "name": "stdout",
     "output_type": "stream",
     "text": [
      "{'model_name': 'SVC', 'params': {'C': 3, 'gamma': 0.5}, 'train_time': 111.33690526750352, 'val_time': 34.86272047625648, 'train_score': 0.9992487223052665, 'val_score': 0.9067533114195242, 'best_model': SVC(C=3, gamma=0.5, kernel='linear')}\n"
     ]
    }
   ],
   "source": [
    "params = {'C': [0.1, 1, 3], 'gamma':[0.5, 0.9]}\n",
    "rs_svc = show_performance_with_gscv('SVC', SVC(kernel='linear'), tfidf_x_train, y_train, params)\n",
    "print(rs_svc)"
   ]
  },
  {
   "cell_type": "code",
   "execution_count": 146,
   "metadata": {},
   "outputs": [
    {
     "name": "stdout",
     "output_type": "stream",
     "text": [
      "{'model_name': 'NaiveBayes', 'params': {'alpha': 0.01}, 'train_time': 0.2047161062558492, 'val_time': 0.05462815364201863, 'train_score': 0.9966413429851532, 'val_score': 0.9056920458347125, 'best_model': MultinomialNB(alpha=0.01)}\n"
     ]
    }
   ],
   "source": [
    "params = {'alpha': [0.0001, 0.01, 0.5, 0.95]}\n",
    "rs_nb = show_performance_with_gscv('NaiveBayes', MultinomialNB(), tfidf_x_train, y_train, params)\n",
    "print(rs_nb)"
   ]
  },
  {
   "cell_type": "code",
   "execution_count": 148,
   "metadata": {},
   "outputs": [
    {
     "data": {
      "image/png": "[encoded data removed]",
      "text/plain": [
       "<Figure size 1152x360 with 1 Axes>"
      ]
     },
     "metadata": {
      "needs_background": "light"
     },
     "output_type": "display_data"
    },
    {
     "data": {
      "image/png": "[encoded data removed]",
      "text/plain": [
       "<Figure size 1152x360 with 1 Axes>"
      ]
     },
     "metadata": {
      "needs_background": "light"
     },
     "output_type": "display_data"
    }
   ],
   "source": [
    "show_metrics(rs_lr, rs_svc, rs_nb)"
   ]
  },
  {
   "cell_type": "code",
   "execution_count": 149,
   "metadata": {},
   "outputs": [
    {
     "name": "stdout",
     "output_type": "stream",
     "text": [
      "16161\n",
      "16\n"
     ]
    }
   ],
   "source": [
    "words_count = []\n",
    "for i in x_train:\n",
    "    words_count.append(len(text_to_word_sequence(i, split=' ')))\n",
    "print(np.max(words_count))\n",
    "print(np.min(words_count))\n",
    "# 18~ 16333\n",
    "NUM_WORDS = 20000\n",
    "MAX_LEN= 1000\n",
    "EMBEDDING_DIM = 100\n",
    "\n",
    "tokenizer = Tokenizer(num_words=NUM_WORDS)\n",
    "tokenizer.fit_on_texts(x_sp_train)\n",
    "word_index = tokenizer.word_index\n",
    "x_sp_train_dl = pad_sequences(tokenizer.texts_to_sequences(x_sp_train), maxlen=MAX_LEN)\n",
    "y_sp_train_dl = to_categorical(np.asarray(y_sp_train), num_classes=20)\n",
    "\n",
    "x_sp_val_dl = pad_sequences(tokenizer.texts_to_sequences(x_sp_val), maxlen=MAX_LEN)\n",
    "y_sp_val_dl = to_categorical(np.asarray(y_sp_val), num_classes=20)\n",
    "\n",
    "x_test_dl = pad_sequences(tokenizer.texts_to_sequences(x_test), maxlen=MAX_LEN)\n",
    "y_test_dl = to_categorical(np.asarray(y_test), num_classes=20)"
   ]
  },
  {
   "cell_type": "code",
   "execution_count": 160,
   "metadata": {},
   "outputs": [
    {
     "name": "stdout",
     "output_type": "stream",
     "text": [
      "embedding matrix shape: (20001, 100)\n",
      "Model: \"model_1\"\n",
      "__________________________________________________________________________________________________\n",
      " Layer (type)                   Output Shape         Param #     Connected to                     \n",
      "==================================================================================================\n",
      " input_2 (InputLayer)           [(None, 1000)]       0           []                               \n",
      "                                                                                                  \n",
      " embedding_1 (Embedding)        (None, 1000, 100)    2000100     ['input_2[0][0]']                \n",
      "                                                                                                  \n",
      " reshape_1 (Reshape)            (None, 1000, 100, 1  0           ['embedding_1[0][0]']            \n",
      "                                )                                                                 \n",
      "                                                                                                  \n",
      " conv2d_3 (Conv2D)              (None, 996, 1, 100)  50100       ['reshape_1[0][0]']              \n",
      "                                                                                                  \n",
      " conv2d_4 (Conv2D)              (None, 997, 1, 100)  40100       ['reshape_1[0][0]']              \n",
      "                                                                                                  \n",
      " conv2d_5 (Conv2D)              (None, 998, 1, 100)  30100       ['reshape_1[0][0]']              \n",
      "                                                                                                  \n",
      " max_pooling2d_3 (MaxPooling2D)  (None, 1, 1, 100)   0           ['conv2d_3[0][0]']               \n",
      "                                                                                                  \n",
      " max_pooling2d_4 (MaxPooling2D)  (None, 1, 1, 100)   0           ['conv2d_4[0][0]']               \n",
      "                                                                                                  \n",
      " max_pooling2d_5 (MaxPooling2D)  (None, 1, 1, 100)   0           ['conv2d_5[0][0]']               \n",
      "                                                                                                  \n",
      " concatenate_1 (Concatenate)    (None, 1, 1, 300)    0           ['max_pooling2d_3[0][0]',        \n",
      "                                                                  'max_pooling2d_4[0][0]',        \n",
      "                                                                  'max_pooling2d_5[0][0]']        \n",
      "                                                                                                  \n",
      " flatten_1 (Flatten)            (None, 300)          0           ['concatenate_1[0][0]']          \n",
      "                                                                                                  \n",
      " dropout_1 (Dropout)            (None, 300)          0           ['flatten_1[0][0]']              \n",
      "                                                                                                  \n",
      " dense_1 (Dense)                (None, 20)           6020        ['dropout_1[0][0]']              \n",
      "                                                                                                  \n",
      "==================================================================================================\n",
      "Total params: 2,126,420\n",
      "Trainable params: 126,320\n",
      "Non-trainable params: 2,000,100\n",
      "__________________________________________________________________________________________________\n"
     ]
    }
   ],
   "source": [
    "# finally using word2vec\n",
    "min_num_words = min(NUM_WORDS, len(word_index))\n",
    "embedding_matrix = np.zeros((min_num_words+1, EMBEDDING_DIM))\n",
    "\n",
    "\n",
    "for word, index in word_index.items():\n",
    "    for word in word:\n",
    "        if word in model.wv:\n",
    "            vec += _model.wv[word]\n",
    "            embedding_matrix[index] = model[word]\n",
    "\n",
    "print('embedding matrix shape: {}'.format(embedding_matrix.shape))   \n",
    "embedding_layer = Embedding(min_num_words+1, EMBEDDING_DIM, weights=[embedding_matrix], input_length=MAX_LEN, \n",
    "                            trainable=False)\n",
    "text_cnn = text_CNN(embedding_layer)\n",
    "text_cnn.summary()"
   ]
  },
  {
   "cell_type": "code",
   "execution_count": 169,
   "metadata": {},
   "outputs": [
    {
     "name": "stdout",
     "output_type": "stream",
     "text": [
      "Epoch 1/60\n",
      "182/182 [==============================] - 32s 173ms/step - loss: 2.9957 - acc: 0.0547 - val_loss: 2.9957 - val_acc: 0.0437\n",
      "Epoch 2/60\n",
      "182/182 [==============================] - 33s 183ms/step - loss: 2.9957 - acc: 0.0547 - val_loss: 2.9957 - val_acc: 0.0437\n",
      "Epoch 3/60\n",
      "182/182 [==============================] - 33s 184ms/step - loss: 2.9957 - acc: 0.0547 - val_loss: 2.9957 - val_acc: 0.0437\n"
     ]
    }
   ],
   "source": [
    "early_stopping = EarlyStopping(monitor='val_acc', patience=2, mode='max')\n",
    "\n",
    "history = text_cnn.fit(x_sp_train_dl, y_sp_train_dl, validation_data=(x_sp_val_dl, y_sp_val_dl), epochs=60, batch_size=50,callbacks=[early_stopping])"
   ]
  },
  {
   "cell_type": "code",
   "execution_count": 171,
   "metadata": {},
   "outputs": [
    {
     "data": {
      "image/png": "[encoded data removed]",
      "text/plain": [
       "<Figure size 432x288 with 1 Axes>"
      ]
     },
     "metadata": {
      "needs_background": "light"
     },
     "output_type": "display_data"
    },
    {
     "data": {
      "image/png": "[encoded data removed]",
      "text/plain": [
       "<Figure size 432x288 with 1 Axes>"
      ]
     },
     "metadata": {
      "needs_background": "light"
     },
     "output_type": "display_data"
    }
   ],
   "source": [
    "show_history(history.history)"
   ]
  },
  {
   "cell_type": "markdown",
   "metadata": {},
   "source": [
    "As you can see there cannot be done a qualitative work in such short time, and the results are corresponding to that fact.\n",
    "\n",
    "I stopped further analysis as I realized that even to finish word2vec using code & explanation from kaggle(!) I would need a couple days.\n",
    "And I assume this is fair for every other approach. Asking to do this in a week from people that most probably work 8 hours a day is cruel to say the least.\n",
    "\n",
    "Sorry. I don't have time and resources to properly work with all of this. \n",
    "As a conclusion this happened to be the work that I physically and mentally cannot do."
   ]
  }
 ],
 "metadata": {
  "interpreter": {
   "hash": "b08b3add8500f1623cea3311b823ca6bbfbdab5862683b4b15434ce49435dfe4"
  },
  "kernelspec": {
   "display_name": "Python 3.9.7 64-bit",
   "language": "python",
   "name": "python3"
  },
  "language_info": {
   "codemirror_mode": {
    "name": "ipython",
    "version": 3
   },
   "file_extension": ".py",
   "mimetype": "text/x-python",
   "name": "python",
   "nbconvert_exporter": "python",
   "pygments_lexer": "ipython3",
   "version": "3.9.7"
  },
  "orig_nbformat": 4
 },
 "nbformat": 4,
 "nbformat_minor": 2
}
