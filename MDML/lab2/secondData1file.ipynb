{
 "cells": [
  {
   "cell_type": "code",
   "execution_count": 25,
   "metadata": {},
   "outputs": [
    {
     "name": "stdout",
     "output_type": "stream",
     "text": [
      "ended part 1\n"
     ]
    }
   ],
   "source": [
    "import pandas as pd\n",
    "from sklearn.model_selection import train_test_split\n",
    "from sklearn.preprocessing import StandardScaler\n",
    "from sklearn.svm import SVC\n",
    "from sklearn.metrics import classification_report, confusion_matrix\n",
    "from sklearn.linear_model import LogisticRegression\n",
    "print('ended part 1')\n",
    "model_results = {}"
   ]
  },
  {
   "cell_type": "code",
   "execution_count": 26,
   "metadata": {},
   "outputs": [
    {
     "name": "stdout",
     "output_type": "stream",
     "text": [
      "ended part 2\n"
     ]
    }
   ],
   "source": [
    "# Q 2\n",
    "# get dataset\n",
    "dataset = pd.read_csv('Data1.csv')\n",
    "dataset.head(10)\n",
    "# dataset.shape\n",
    "# generate x y\n",
    "X = dataset.drop('Class', axis= 1) # our attributes\n",
    "y = dataset['Class'] # our labels\n",
    "# split into tran and test sets\n",
    "X_train, X_test, y_train, y_test = train_test_split(X, y, test_size=0.2)\n",
    "print('ended part 2')"
   ]
  },
  {
   "cell_type": "code",
   "execution_count": 27,
   "metadata": {},
   "outputs": [
    {
     "name": "stdout",
     "output_type": "stream",
     "text": [
      "ended part 3\n"
     ]
    }
   ],
   "source": [
    "# scale X\n",
    "scaler = StandardScaler().fit(X_train, X_test)\n",
    "X_std = pd.DataFrame(scaler.transform(X), columns=[n for n in X.columns])\n",
    "print('ended part 3')"
   ]
  },
  {
   "cell_type": "code",
   "execution_count": 28,
   "metadata": {},
   "outputs": [
    {
     "name": "stdout",
     "output_type": "stream",
     "text": [
      "ended part 4\n"
     ]
    }
   ],
   "source": [
    "# create SVC\n",
    "svclassifier = SVC(kernel='linear', random_state = 0)\n",
    "svclassifier.fit(X_train, y_train)\n",
    "print('ended part 4')"
   ]
  },
  {
   "cell_type": "code",
   "execution_count": 29,
   "metadata": {},
   "outputs": [
    {
     "name": "stdout",
     "output_type": "stream",
     "text": [
      "ended part 5\n"
     ]
    }
   ],
   "source": [
    "# make predictions\n",
    "y_pred = svclassifier.predict(X_test)\n",
    "print('ended part 5')"
   ]
  },
  {
   "cell_type": "code",
   "execution_count": 30,
   "metadata": {},
   "outputs": [
    {
     "name": "stdout",
     "output_type": "stream",
     "text": [
      "[[82  7]\n",
      " [42  6]]\n",
      "              precision    recall  f1-score   support\n",
      "\n",
      "           2       0.66      0.92      0.77        89\n",
      "           4       0.46      0.12      0.20        48\n",
      "\n",
      "    accuracy                           0.64       137\n",
      "   macro avg       0.56      0.52      0.48       137\n",
      "weighted avg       0.59      0.64      0.57       137\n",
      "\n",
      "ended part 6\n"
     ]
    }
   ],
   "source": [
    "# 7. confusion matrix \n",
    "print(confusion_matrix(y_test,y_pred))\n",
    "print(classification_report(y_test,y_pred))\n",
    "# the result is bad, probably because we have too little observations (80 is TOO LITTLE. P.S with .9% taken the result is not better)\n",
    "print('ended part 6')"
   ]
  },
  {
   "cell_type": "code",
   "execution_count": 31,
   "metadata": {},
   "outputs": [
    {
     "name": "stdout",
     "output_type": "stream",
     "text": [
      "commented for meh reasons\n",
      "ended part 7\n"
     ]
    }
   ],
   "source": [
    "# scores = cross_val_score(svclassifier, X, y, cv=4, n_jobs=8)\n",
    "print('commented for meh reasons')\n",
    "print('ended part 7')\n",
    "# scores"
   ]
  },
  {
   "cell_type": "code",
   "execution_count": 32,
   "outputs": [
    {
     "name": "stdout",
     "output_type": "stream",
     "text": [
      "[2 2 2 2 2 2 2 2 2 2 2 2 2 2 2 2 2 2 2 2 2 2 2 2 2 2 2 2 2 2 2 2 2 2 2 2 2\n",
      " 2 2 2 2 2 2 2 2 2 2 2 2 2 2 2 2 2 2 2 2 2 2 2 2 2 2 2 2 2 2 2 2 2 2 2 2 2\n",
      " 2 2 2 2 2 2 2 2 2 2 2 2 2 2 2 2 2 2 2 2 2 2 2 2 2 2 2 2 2 2 2 2 2 2 2 2 2\n",
      " 2 2 2 2 2 2 2 2 2 2 2 2 2 2 2 2 2 2 2 2 2 2 2 2 2 2]\n",
      "[[0.69076009 0.30923991]\n",
      " [0.68870541 0.31129459]\n",
      " [0.67678526 0.32321474]\n",
      " [0.67755669 0.32244331]\n",
      " [0.67393763 0.32606237]\n",
      " [0.67001724 0.32998276]\n",
      " [0.68930492 0.31069508]\n",
      " [0.66999976 0.33000024]\n",
      " [0.62937952 0.37062048]\n",
      " [0.60338159 0.39661841]\n",
      " [0.57391943 0.42608057]\n",
      " [0.67039615 0.32960385]\n",
      " [0.61638157 0.38361843]\n",
      " [0.67440198 0.32559802]\n",
      " [0.68358189 0.31641811]\n",
      " [0.67356227 0.32643773]\n",
      " [0.99310527 0.00689473]\n",
      " [0.68228306 0.31771694]\n",
      " [0.57804559 0.42195441]\n",
      " [0.61664359 0.38335641]\n",
      " [0.67720132 0.32279868]\n",
      " [0.62885248 0.37114752]\n",
      " [0.67424608 0.32575392]\n",
      " [0.67306834 0.32693166]\n",
      " [0.66770031 0.33229969]\n",
      " [0.65620878 0.34379122]\n",
      " [0.55298447 0.44701553]\n",
      " [0.56842395 0.43157605]\n",
      " [0.6263095  0.3736905 ]\n",
      " [0.56999646 0.43000354]\n",
      " [0.65660373 0.34339627]\n",
      " [0.67122484 0.32877516]\n",
      " [0.68714815 0.31285185]\n",
      " [0.66245399 0.33754601]\n",
      " [0.68264907 0.31735093]\n",
      " [0.66962636 0.33037364]\n",
      " [0.68378267 0.31621733]\n",
      " [0.68513094 0.31486906]\n",
      " [0.62279445 0.37720555]\n",
      " [0.66934039 0.33065961]\n",
      " [0.68227914 0.31772086]\n",
      " [0.65317073 0.34682927]\n",
      " [0.62508071 0.37491929]\n",
      " [0.63090986 0.36909014]\n",
      " [0.62662731 0.37337269]\n",
      " [0.65145946 0.34854054]\n",
      " [0.67971395 0.32028605]\n",
      " [0.6766013  0.3233987 ]\n",
      " [0.59550487 0.40449513]\n",
      " [0.65229231 0.34770769]\n",
      " [0.67366698 0.32633302]\n",
      " [0.6751859  0.3248141 ]\n",
      " [0.66439665 0.33560335]\n",
      " [0.55553965 0.44446035]\n",
      " [0.69351723 0.30648277]\n",
      " [0.68584253 0.31415747]\n",
      " [0.68170665 0.31829335]\n",
      " [0.68504121 0.31495879]\n",
      " [0.6954927  0.3045073 ]\n",
      " [0.60929731 0.39070269]\n",
      " [0.67843463 0.32156537]\n",
      " [0.69508373 0.30491627]\n",
      " [0.5932429  0.4067571 ]\n",
      " [0.68812626 0.31187374]\n",
      " [0.60005758 0.39994242]\n",
      " [0.65734755 0.34265245]\n",
      " [0.67615061 0.32384939]\n",
      " [0.57609993 0.42390007]\n",
      " [0.67003953 0.32996047]\n",
      " [0.66773446 0.33226554]\n",
      " [0.62236001 0.37763999]\n",
      " [0.66191928 0.33808072]\n",
      " [0.68637332 0.31362668]\n",
      " [0.57291687 0.42708313]\n",
      " [0.67010558 0.32989442]\n",
      " [0.66985774 0.33014226]\n",
      " [0.68669444 0.31330556]\n",
      " [0.68358189 0.31641811]\n",
      " [0.51444061 0.48555939]\n",
      " [0.66086742 0.33913258]\n",
      " [0.61820887 0.38179113]\n",
      " [0.6534439  0.3465561 ]\n",
      " [0.65566986 0.34433014]\n",
      " [0.67137296 0.32862704]\n",
      " [0.57314003 0.42685997]\n",
      " [0.53660018 0.46339982]\n",
      " [0.66098078 0.33901922]\n",
      " [0.66090354 0.33909646]\n",
      " [0.66969659 0.33030341]\n",
      " [0.52839057 0.47160943]\n",
      " [0.67829897 0.32170103]\n",
      " [0.59739845 0.40260155]\n",
      " [0.65332702 0.34667298]\n",
      " [0.68370291 0.31629709]\n",
      " [0.67648387 0.32351613]\n",
      " [0.62783416 0.37216584]\n",
      " [0.59486946 0.40513054]\n",
      " [0.69382661 0.30617339]\n",
      " [0.66197939 0.33802061]\n",
      " [0.66222234 0.33777766]\n",
      " [0.68371949 0.31628051]\n",
      " [0.66222382 0.33777618]\n",
      " [0.6862097  0.3137903 ]\n",
      " [0.66962649 0.33037351]\n",
      " [0.67338413 0.32661587]\n",
      " [0.5488023  0.4511977 ]\n",
      " [0.57286089 0.42713911]\n",
      " [0.67323621 0.32676379]\n",
      " [0.68305262 0.31694738]\n",
      " [0.69549194 0.30450806]\n",
      " [0.61318228 0.38681772]\n",
      " [0.66309267 0.33690733]\n",
      " [0.67122485 0.32877515]\n",
      " [0.66608596 0.33391404]\n",
      " [0.64683085 0.35316915]\n",
      " [0.69062456 0.30937544]\n",
      " [0.59640022 0.40359978]\n",
      " [0.65746732 0.34253268]\n",
      " [0.67093038 0.32906962]\n",
      " [0.61952273 0.38047727]\n",
      " [0.67329809 0.32670191]\n",
      " [0.64954986 0.35045014]\n",
      " [0.62055431 0.37944569]\n",
      " [0.65253145 0.34746855]\n",
      " [0.66157677 0.33842323]\n",
      " [0.67554772 0.32445228]\n",
      " [0.67386348 0.32613652]\n",
      " [0.67384649 0.32615351]\n",
      " [0.68658625 0.31341375]\n",
      " [0.66793023 0.33206977]\n",
      " [0.61984353 0.38015647]\n",
      " [0.68911485 0.31088515]\n",
      " [0.61632348 0.38367652]\n",
      " [0.68945744 0.31054256]\n",
      " [0.6566206  0.3433794 ]\n",
      " [0.65498965 0.34501035]\n",
      " [0.6513376  0.3486624 ]]\n",
      "0.6496350364963503\n"
     ]
    }
   ],
   "source": [
    "# here starts actual Q2, all previous steps were prerequisites\n",
    "\n",
    "clf = LogisticRegression(random_state=0).fit(X, y)\n",
    "logisticPredict = clf.predict(X_test)\n",
    "logistic_predict_proba = clf.predict_proba(X_test)\n",
    "logistic_score = clf.score(X_test, y_test)\n",
    "model_results['Logistic_predict'] = logisticPredict\n",
    "model_results['Logistic_predict_proba'] = logistic_predict_proba\n",
    "model_results['Logistic_score'] = logistic_score\n",
    "print(logisticPredict)\n",
    "print(logistic_predict_proba)\n",
    "print(logistic_score)"
   ],
   "metadata": {
    "collapsed": false,
    "pycharm": {
     "name": "#%%\n"
    }
   }
  }
 ],
 "metadata": {
  "interpreter": {
   "hash": "2b355ee983f23f4d0b28e90ea45b33537f29c12390fbee61533ba394cb277947"
  },
  "kernelspec": {
   "name": "python3",
   "language": "python",
   "display_name": "Python 3 (ipykernel)"
  },
  "language_info": {
   "codemirror_mode": {
    "name": "ipython",
    "version": 3
   },
   "file_extension": ".py",
   "mimetype": "text/x-python",
   "name": "python",
   "nbconvert_exporter": "python",
   "pygments_lexer": "ipython3",
   "version": "3.9.7"
  },
  "orig_nbformat": 4
 },
 "nbformat": 4,
 "nbformat_minor": 2
}