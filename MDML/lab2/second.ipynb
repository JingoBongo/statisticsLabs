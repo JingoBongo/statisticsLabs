{
 "cells": [
  {
   "cell_type": "code",
   "execution_count": 7,
   "metadata": {},
   "outputs": [
    {
     "name": "stdout",
     "output_type": "stream",
     "text": [
      "ended part 1\n"
     ]
    }
   ],
   "source": [
    "import json\n",
    "\n",
    "import pandas as pd\n",
    "from sklearn.model_selection import train_test_split\n",
    "from sklearn.preprocessing import StandardScaler\n",
    "from sklearn.svm import SVC\n",
    "from sklearn.metrics import classification_report, confusion_matrix\n",
    "from sklearn.model_selection import cross_val_score\n",
    "from sklearn.model_selection import GridSearchCV\n",
    "model_results = {}\n",
    "print('ended part 1')"
   ]
  },
  {
   "cell_type": "code",
   "execution_count": 8,
   "metadata": {},
   "outputs": [
    {
     "name": "stdout",
     "output_type": "stream",
     "text": [
      "ended part 2\n"
     ]
    }
   ],
   "source": [
    "# Q 2\n",
    "# get dataset\n",
    "dataset = pd.read_csv('Social_Network_Ads.csv')\n",
    "dataset.head(10)\n",
    "# dataset.shape\n",
    "# generate x y\n",
    "X = dataset.drop('Purchased', axis= 1) # our attributes\n",
    "y = dataset['Purchased'] # our labels\n",
    "# split into tran and test sets\n",
    "X_train, X_test, y_train, y_test = train_test_split(X, y, test_size=0.2)\n",
    "print('ended part 2')"
   ]
  },
  {
   "cell_type": "code",
   "execution_count": 9,
   "metadata": {},
   "outputs": [
    {
     "name": "stdout",
     "output_type": "stream",
     "text": [
      "ended part 3\n"
     ]
    }
   ],
   "source": [
    "# scale X\n",
    "scaler = StandardScaler().fit(X_train, X_test)\n",
    "X_std = pd.DataFrame(scaler.transform(X), columns=['Age', 'EstimatedSalary'])\n",
    "print('ended part 3')"
   ]
  },
  {
   "cell_type": "code",
   "execution_count": 10,
   "metadata": {},
   "outputs": [
    {
     "name": "stdout",
     "output_type": "stream",
     "text": [
      "ended part 4\n"
     ]
    }
   ],
   "source": [
    "# create SVC\n",
    "svclassifier = SVC(kernel='linear', random_state = 0)\n",
    "svclassifier.fit(X_train, y_train)\n",
    "print('ended part 4')"
   ]
  },
  {
   "cell_type": "code",
   "execution_count": 11,
   "metadata": {},
   "outputs": [
    {
     "name": "stdout",
     "output_type": "stream",
     "text": [
      "ended part 5\n"
     ]
    }
   ],
   "source": [
    "# make predictions\n",
    "y_pred = svclassifier.predict(X_test)\n",
    "print('ended part 5')"
   ]
  },
  {
   "cell_type": "code",
   "execution_count": 12,
   "metadata": {},
   "outputs": [
    {
     "name": "stdout",
     "output_type": "stream",
     "text": [
      "[[50  2]\n",
      " [ 8 20]]\n",
      "              precision    recall  f1-score   support\n",
      "\n",
      "           0       0.86      0.96      0.91        52\n",
      "           1       0.91      0.71      0.80        28\n",
      "\n",
      "    accuracy                           0.88        80\n",
      "   macro avg       0.89      0.84      0.85        80\n",
      "weighted avg       0.88      0.88      0.87        80\n",
      "\n",
      "ended part 6\n"
     ]
    }
   ],
   "source": [
    "# 7. confusion matrix\n",
    "conf_matrix = confusion_matrix(y_test,y_pred)\n",
    "class_report = classification_report(y_test,y_pred)\n",
    "model_results['SVC_confusion'] = conf_matrix\n",
    "model_results['SVC_classification'] = class_report\n",
    "print(conf_matrix)\n",
    "print(class_report)\n",
    "# the result is bad, probably because we have too little observations (80 is TOO LITTLE. P.S with .9% taken the result is not better)\n",
    "print('ended part 6')"
   ]
  },
  {
   "cell_type": "code",
   "execution_count": 13,
   "metadata": {},
   "outputs": [
    {
     "name": "stdout",
     "output_type": "stream",
     "text": [
      "commented for meh reasons\n",
      "ended part 7\n"
     ]
    }
   ],
   "source": [
    "# scores = cross_val_score(svclassifier, X, y, cv=4, n_jobs=8)\n",
    "print('commented for meh reasons')\n",
    "print('ended part 7')\n",
    "# scores"
   ]
  },
  {
   "cell_type": "code",
   "execution_count": null,
   "outputs": [
    {
     "name": "stderr",
     "output_type": "stream",
     "text": [
      "C:\\Users\\otaku\\AppData\\Local\\Programs\\Python\\Python39\\lib\\site-packages\\sklearn\\metrics\\_classification.py:1308: UndefinedMetricWarning: Precision is ill-defined and being set to 0.0 in labels with no predicted samples. Use `zero_division` parameter to control this behavior.\n",
      "  _warn_prf(average, modifier, msg_start, len(result))\n",
      "C:\\Users\\otaku\\AppData\\Local\\Programs\\Python\\Python39\\lib\\site-packages\\sklearn\\metrics\\_classification.py:1308: UndefinedMetricWarning: Precision is ill-defined and being set to 0.0 in labels with no predicted samples. Use `zero_division` parameter to control this behavior.\n",
      "  _warn_prf(average, modifier, msg_start, len(result))\n",
      "C:\\Users\\otaku\\AppData\\Local\\Programs\\Python\\Python39\\lib\\site-packages\\sklearn\\metrics\\_classification.py:1308: UndefinedMetricWarning: Precision is ill-defined and being set to 0.0 in labels with no predicted samples. Use `zero_division` parameter to control this behavior.\n",
      "  _warn_prf(average, modifier, msg_start, len(result))\n",
      "C:\\Users\\otaku\\AppData\\Local\\Programs\\Python\\Python39\\lib\\site-packages\\sklearn\\metrics\\_classification.py:1308: UndefinedMetricWarning: Precision is ill-defined and being set to 0.0 in labels with no predicted samples. Use `zero_division` parameter to control this behavior.\n",
      "  _warn_prf(average, modifier, msg_start, len(result))\n",
      "C:\\Users\\otaku\\AppData\\Local\\Programs\\Python\\Python39\\lib\\site-packages\\sklearn\\metrics\\_classification.py:1308: UndefinedMetricWarning: Precision is ill-defined and being set to 0.0 in labels with no predicted samples. Use `zero_division` parameter to control this behavior.\n",
      "  _warn_prf(average, modifier, msg_start, len(result))\n",
      "C:\\Users\\otaku\\AppData\\Local\\Programs\\Python\\Python39\\lib\\site-packages\\sklearn\\metrics\\_classification.py:1308: UndefinedMetricWarning: Precision is ill-defined and being set to 0.0 in labels with no predicted samples. Use `zero_division` parameter to control this behavior.\n",
      "  _warn_prf(average, modifier, msg_start, len(result))\n",
      "C:\\Users\\otaku\\AppData\\Local\\Programs\\Python\\Python39\\lib\\site-packages\\sklearn\\metrics\\_classification.py:1308: UndefinedMetricWarning: Precision is ill-defined and being set to 0.0 in labels with no predicted samples. Use `zero_division` parameter to control this behavior.\n",
      "  _warn_prf(average, modifier, msg_start, len(result))\n",
      "C:\\Users\\otaku\\AppData\\Local\\Programs\\Python\\Python39\\lib\\site-packages\\sklearn\\metrics\\_classification.py:1308: UndefinedMetricWarning: Precision is ill-defined and being set to 0.0 in labels with no predicted samples. Use `zero_division` parameter to control this behavior.\n",
      "  _warn_prf(average, modifier, msg_start, len(result))\n",
      "C:\\Users\\otaku\\AppData\\Local\\Programs\\Python\\Python39\\lib\\site-packages\\sklearn\\metrics\\_classification.py:1308: UndefinedMetricWarning: Precision is ill-defined and being set to 0.0 in labels with no predicted samples. Use `zero_division` parameter to control this behavior.\n",
      "  _warn_prf(average, modifier, msg_start, len(result))\n"
     ]
    },
    {
     "name": "stdout",
     "output_type": "stream",
     "text": [
      "it finished grid search and svc/fit\n",
      "Best parameters set found on development set:\n",
      "\n",
      "{'C': 0.75, 'kernel': 'linear'}\n",
      "\n",
      "Grid scores on development set:\n",
      "\n",
      "0.830 (+/-0.074) for {'C': 0.25, 'kernel': 'linear'}\n",
      "0.831 (+/-0.072) for {'C': 0.5, 'kernel': 'linear'}\n",
      "0.831 (+/-0.058) for {'C': 0.75, 'kernel': 'linear'}\n",
      "0.828 (+/-0.057) for {'C': 1, 'kernel': 'linear'}\n",
      "0.320 (+/-0.000) for {'C': 0.25, 'gamma': 0.001, 'kernel': 'rbf'}\n",
      "0.320 (+/-0.002) for {'C': 0.25, 'gamma': 0.0001, 'kernel': 'rbf'}\n",
      "0.746 (+/-0.193) for {'C': 0.5, 'gamma': 0.001, 'kernel': 'rbf'}\n",
      "0.676 (+/-0.145) for {'C': 0.5, 'gamma': 0.0001, 'kernel': 'rbf'}\n",
      "0.715 (+/-0.131) for {'C': 0.75, 'gamma': 0.001, 'kernel': 'rbf'}\n",
      "0.664 (+/-0.120) for {'C': 0.75, 'gamma': 0.0001, 'kernel': 'rbf'}\n",
      "0.721 (+/-0.117) for {'C': 1, 'gamma': 0.001, 'kernel': 'rbf'}\n",
      "0.675 (+/-0.128) for {'C': 1, 'gamma': 0.0001, 'kernel': 'rbf'}\n",
      "\n",
      "Detailed classification report:\n",
      "\n",
      "The model is trained on the full development set.\n",
      "The scores are computed on the full evaluation set.\n",
      "\n",
      "              precision    recall  f1-score   support\n",
      "\n",
      "           0       0.86      0.92      0.89        52\n",
      "           1       0.83      0.71      0.77        28\n",
      "\n",
      "    accuracy                           0.85        80\n",
      "   macro avg       0.85      0.82      0.83        80\n",
      "weighted avg       0.85      0.85      0.85        80\n",
      "\n",
      "\n",
      "# Tuning hyper-parameters for recall\n",
      "\n",
      "it started grid search and svc/fit\n",
      "it finished grid search and svc/fit\n",
      "Best parameters set found on development set:\n",
      "\n",
      "{'C': 0.25, 'kernel': 'linear'}\n",
      "\n",
      "Grid scores on development set:\n",
      "\n",
      "0.818 (+/-0.059) for {'C': 0.25, 'kernel': 'linear'}\n",
      "0.816 (+/-0.066) for {'C': 0.5, 'kernel': 'linear'}\n",
      "0.818 (+/-0.042) for {'C': 0.75, 'kernel': 'linear'}\n",
      "0.813 (+/-0.048) for {'C': 1, 'kernel': 'linear'}\n",
      "0.500 (+/-0.000) for {'C': 0.25, 'gamma': 0.001, 'kernel': 'rbf'}\n",
      "0.498 (+/-0.010) for {'C': 0.25, 'gamma': 0.0001, 'kernel': 'rbf'}\n",
      "0.628 (+/-0.103) for {'C': 0.5, 'gamma': 0.001, 'kernel': 'rbf'}\n",
      "0.628 (+/-0.096) for {'C': 0.5, 'gamma': 0.0001, 'kernel': 'rbf'}\n",
      "0.666 (+/-0.116) for {'C': 0.75, 'gamma': 0.001, 'kernel': 'rbf'}\n",
      "0.623 (+/-0.088) for {'C': 0.75, 'gamma': 0.0001, 'kernel': 'rbf'}\n",
      "0.678 (+/-0.103) for {'C': 1, 'gamma': 0.001, 'kernel': 'rbf'}\n",
      "0.636 (+/-0.107) for {'C': 1, 'gamma': 0.0001, 'kernel': 'rbf'}\n",
      "\n",
      "Detailed classification report:\n",
      "\n",
      "The model is trained on the full development set.\n",
      "The scores are computed on the full evaluation set.\n",
      "\n",
      "              precision    recall  f1-score   support\n",
      "\n",
      "           0       0.85      0.96      0.90        52\n",
      "           1       0.90      0.68      0.78        28\n",
      "\n",
      "    accuracy                           0.86        80\n",
      "   macro avg       0.88      0.82      0.84        80\n",
      "weighted avg       0.87      0.86      0.86        80\n",
      "\n",
      "\n"
     ]
    }
   ],
   "source": [
    "print('started grid search cell')\n",
    "# set C parameters\n",
    "param_grid = [\n",
    "  {'C': [0.25, 0.5, 0.75, 1], 'kernel': ['linear','rbf']}\n",
    " ]\n",
    "\n",
    "types = [\"precision\", \"recall\"]\n",
    "\n",
    "for score in types:\n",
    "    print(\"# Tuning hyper-parameters for %s\" % score)\n",
    "    print()\n",
    "\n",
    "    print('it started grid search and svc/fit')\n",
    "    clf = GridSearchCV(svclassifier, param_grid, scoring=\"%s_macro\" % score, n_jobs= -3)\n",
    "    clf.fit(X_train, y_train)\n",
    "    print('it finished grid search and svc/fit')\n",
    "\n",
    "    print(\"Best parameters set found on development set:\")\n",
    "    print()\n",
    "    print(clf.best_params_)\n",
    "    print()\n",
    "    print(\"Grid scores on development set:\")\n",
    "    print()\n",
    "    means = clf.cv_results_[\"mean_test_score\"]\n",
    "    stds = clf.cv_results_[\"std_test_score\"]\n",
    "    for mean, std, params in zip(means, stds, clf.cv_results_[\"params\"]):\n",
    "        print(\"%0.3f (+/-%0.03f) for %r\" % (mean, std * 2, params))\n",
    "    print()\n",
    "\n",
    "    print(\"Detailed classification report:\")\n",
    "    print()\n",
    "    print(\"The model is trained on the full development set.\")\n",
    "    print(\"The scores are computed on the full evaluation set.\")\n",
    "    print()\n",
    "    y_true, y_pred = y_test, clf.predict(X_test)\n",
    "    loop_classification = classification_report(y_true, y_pred)\n",
    "    print(loop_classification)\n",
    "    model_results[score+'_classification'] = loop_classification\n",
    "    print()\n"
   ],
   "metadata": {
    "collapsed": false,
    "pycharm": {
     "name": "#%%\n"
    }
   }
  },
  {
   "cell_type": "code",
   "execution_count": 15,
   "outputs": [
    {
     "ename": "TypeError",
     "evalue": "Object of type ndarray is not JSON serializable",
     "output_type": "error",
     "traceback": [
      "\u001B[1;31m---------------------------------------------------------------------------\u001B[0m",
      "\u001B[1;31mTypeError\u001B[0m                                 Traceback (most recent call last)",
      "\u001B[1;32m~\\AppData\\Local\\Temp/ipykernel_18172/3716471262.py\u001B[0m in \u001B[0;36m<module>\u001B[1;34m\u001B[0m\n\u001B[0;32m      1\u001B[0m \u001B[0mf\u001B[0m \u001B[1;33m=\u001B[0m \u001B[0mopen\u001B[0m\u001B[1;33m(\u001B[0m\u001B[1;34m\"demofile2.txt\"\u001B[0m\u001B[1;33m,\u001B[0m \u001B[1;34m\"w\"\u001B[0m\u001B[1;33m)\u001B[0m\u001B[1;33m\u001B[0m\u001B[1;33m\u001B[0m\u001B[0m\n\u001B[1;32m----> 2\u001B[1;33m \u001B[0mf\u001B[0m\u001B[1;33m.\u001B[0m\u001B[0mwrite\u001B[0m\u001B[1;33m(\u001B[0m\u001B[0mjson\u001B[0m\u001B[1;33m.\u001B[0m\u001B[0mdumps\u001B[0m\u001B[1;33m(\u001B[0m\u001B[0mmodel_results\u001B[0m\u001B[1;33m,\u001B[0m \u001B[0mindent\u001B[0m\u001B[1;33m=\u001B[0m \u001B[1;36m2\u001B[0m \u001B[1;33m)\u001B[0m\u001B[1;33m)\u001B[0m\u001B[1;33m\u001B[0m\u001B[1;33m\u001B[0m\u001B[0m\n\u001B[0m\u001B[0;32m      3\u001B[0m \u001B[0mf\u001B[0m\u001B[1;33m.\u001B[0m\u001B[0mclose\u001B[0m\u001B[1;33m(\u001B[0m\u001B[1;33m)\u001B[0m\u001B[1;33m\u001B[0m\u001B[1;33m\u001B[0m\u001B[0m\n\u001B[0;32m      4\u001B[0m \u001B[1;33m\u001B[0m\u001B[0m\n",
      "\u001B[1;32m~\\AppData\\Local\\Programs\\Python\\Python39\\lib\\json\\__init__.py\u001B[0m in \u001B[0;36mdumps\u001B[1;34m(obj, skipkeys, ensure_ascii, check_circular, allow_nan, cls, indent, separators, default, sort_keys, **kw)\u001B[0m\n\u001B[0;32m    232\u001B[0m     \u001B[1;32mif\u001B[0m \u001B[0mcls\u001B[0m \u001B[1;32mis\u001B[0m \u001B[1;32mNone\u001B[0m\u001B[1;33m:\u001B[0m\u001B[1;33m\u001B[0m\u001B[1;33m\u001B[0m\u001B[0m\n\u001B[0;32m    233\u001B[0m         \u001B[0mcls\u001B[0m \u001B[1;33m=\u001B[0m \u001B[0mJSONEncoder\u001B[0m\u001B[1;33m\u001B[0m\u001B[1;33m\u001B[0m\u001B[0m\n\u001B[1;32m--> 234\u001B[1;33m     return cls(\n\u001B[0m\u001B[0;32m    235\u001B[0m         \u001B[0mskipkeys\u001B[0m\u001B[1;33m=\u001B[0m\u001B[0mskipkeys\u001B[0m\u001B[1;33m,\u001B[0m \u001B[0mensure_ascii\u001B[0m\u001B[1;33m=\u001B[0m\u001B[0mensure_ascii\u001B[0m\u001B[1;33m,\u001B[0m\u001B[1;33m\u001B[0m\u001B[1;33m\u001B[0m\u001B[0m\n\u001B[0;32m    236\u001B[0m         \u001B[0mcheck_circular\u001B[0m\u001B[1;33m=\u001B[0m\u001B[0mcheck_circular\u001B[0m\u001B[1;33m,\u001B[0m \u001B[0mallow_nan\u001B[0m\u001B[1;33m=\u001B[0m\u001B[0mallow_nan\u001B[0m\u001B[1;33m,\u001B[0m \u001B[0mindent\u001B[0m\u001B[1;33m=\u001B[0m\u001B[0mindent\u001B[0m\u001B[1;33m,\u001B[0m\u001B[1;33m\u001B[0m\u001B[1;33m\u001B[0m\u001B[0m\n",
      "\u001B[1;32m~\\AppData\\Local\\Programs\\Python\\Python39\\lib\\json\\encoder.py\u001B[0m in \u001B[0;36mencode\u001B[1;34m(self, o)\u001B[0m\n\u001B[0;32m    199\u001B[0m         \u001B[0mchunks\u001B[0m \u001B[1;33m=\u001B[0m \u001B[0mself\u001B[0m\u001B[1;33m.\u001B[0m\u001B[0miterencode\u001B[0m\u001B[1;33m(\u001B[0m\u001B[0mo\u001B[0m\u001B[1;33m,\u001B[0m \u001B[0m_one_shot\u001B[0m\u001B[1;33m=\u001B[0m\u001B[1;32mTrue\u001B[0m\u001B[1;33m)\u001B[0m\u001B[1;33m\u001B[0m\u001B[1;33m\u001B[0m\u001B[0m\n\u001B[0;32m    200\u001B[0m         \u001B[1;32mif\u001B[0m \u001B[1;32mnot\u001B[0m \u001B[0misinstance\u001B[0m\u001B[1;33m(\u001B[0m\u001B[0mchunks\u001B[0m\u001B[1;33m,\u001B[0m \u001B[1;33m(\u001B[0m\u001B[0mlist\u001B[0m\u001B[1;33m,\u001B[0m \u001B[0mtuple\u001B[0m\u001B[1;33m)\u001B[0m\u001B[1;33m)\u001B[0m\u001B[1;33m:\u001B[0m\u001B[1;33m\u001B[0m\u001B[1;33m\u001B[0m\u001B[0m\n\u001B[1;32m--> 201\u001B[1;33m             \u001B[0mchunks\u001B[0m \u001B[1;33m=\u001B[0m \u001B[0mlist\u001B[0m\u001B[1;33m(\u001B[0m\u001B[0mchunks\u001B[0m\u001B[1;33m)\u001B[0m\u001B[1;33m\u001B[0m\u001B[1;33m\u001B[0m\u001B[0m\n\u001B[0m\u001B[0;32m    202\u001B[0m         \u001B[1;32mreturn\u001B[0m \u001B[1;34m''\u001B[0m\u001B[1;33m.\u001B[0m\u001B[0mjoin\u001B[0m\u001B[1;33m(\u001B[0m\u001B[0mchunks\u001B[0m\u001B[1;33m)\u001B[0m\u001B[1;33m\u001B[0m\u001B[1;33m\u001B[0m\u001B[0m\n\u001B[0;32m    203\u001B[0m \u001B[1;33m\u001B[0m\u001B[0m\n",
      "\u001B[1;32m~\\AppData\\Local\\Programs\\Python\\Python39\\lib\\json\\encoder.py\u001B[0m in \u001B[0;36m_iterencode\u001B[1;34m(o, _current_indent_level)\u001B[0m\n\u001B[0;32m    429\u001B[0m             \u001B[1;32myield\u001B[0m \u001B[1;32mfrom\u001B[0m \u001B[0m_iterencode_list\u001B[0m\u001B[1;33m(\u001B[0m\u001B[0mo\u001B[0m\u001B[1;33m,\u001B[0m \u001B[0m_current_indent_level\u001B[0m\u001B[1;33m)\u001B[0m\u001B[1;33m\u001B[0m\u001B[1;33m\u001B[0m\u001B[0m\n\u001B[0;32m    430\u001B[0m         \u001B[1;32melif\u001B[0m \u001B[0misinstance\u001B[0m\u001B[1;33m(\u001B[0m\u001B[0mo\u001B[0m\u001B[1;33m,\u001B[0m \u001B[0mdict\u001B[0m\u001B[1;33m)\u001B[0m\u001B[1;33m:\u001B[0m\u001B[1;33m\u001B[0m\u001B[1;33m\u001B[0m\u001B[0m\n\u001B[1;32m--> 431\u001B[1;33m             \u001B[1;32myield\u001B[0m \u001B[1;32mfrom\u001B[0m \u001B[0m_iterencode_dict\u001B[0m\u001B[1;33m(\u001B[0m\u001B[0mo\u001B[0m\u001B[1;33m,\u001B[0m \u001B[0m_current_indent_level\u001B[0m\u001B[1;33m)\u001B[0m\u001B[1;33m\u001B[0m\u001B[1;33m\u001B[0m\u001B[0m\n\u001B[0m\u001B[0;32m    432\u001B[0m         \u001B[1;32melse\u001B[0m\u001B[1;33m:\u001B[0m\u001B[1;33m\u001B[0m\u001B[1;33m\u001B[0m\u001B[0m\n\u001B[0;32m    433\u001B[0m             \u001B[1;32mif\u001B[0m \u001B[0mmarkers\u001B[0m \u001B[1;32mis\u001B[0m \u001B[1;32mnot\u001B[0m \u001B[1;32mNone\u001B[0m\u001B[1;33m:\u001B[0m\u001B[1;33m\u001B[0m\u001B[1;33m\u001B[0m\u001B[0m\n",
      "\u001B[1;32m~\\AppData\\Local\\Programs\\Python\\Python39\\lib\\json\\encoder.py\u001B[0m in \u001B[0;36m_iterencode_dict\u001B[1;34m(dct, _current_indent_level)\u001B[0m\n\u001B[0;32m    403\u001B[0m                 \u001B[1;32melse\u001B[0m\u001B[1;33m:\u001B[0m\u001B[1;33m\u001B[0m\u001B[1;33m\u001B[0m\u001B[0m\n\u001B[0;32m    404\u001B[0m                     \u001B[0mchunks\u001B[0m \u001B[1;33m=\u001B[0m \u001B[0m_iterencode\u001B[0m\u001B[1;33m(\u001B[0m\u001B[0mvalue\u001B[0m\u001B[1;33m,\u001B[0m \u001B[0m_current_indent_level\u001B[0m\u001B[1;33m)\u001B[0m\u001B[1;33m\u001B[0m\u001B[1;33m\u001B[0m\u001B[0m\n\u001B[1;32m--> 405\u001B[1;33m                 \u001B[1;32myield\u001B[0m \u001B[1;32mfrom\u001B[0m \u001B[0mchunks\u001B[0m\u001B[1;33m\u001B[0m\u001B[1;33m\u001B[0m\u001B[0m\n\u001B[0m\u001B[0;32m    406\u001B[0m         \u001B[1;32mif\u001B[0m \u001B[0mnewline_indent\u001B[0m \u001B[1;32mis\u001B[0m \u001B[1;32mnot\u001B[0m \u001B[1;32mNone\u001B[0m\u001B[1;33m:\u001B[0m\u001B[1;33m\u001B[0m\u001B[1;33m\u001B[0m\u001B[0m\n\u001B[0;32m    407\u001B[0m             \u001B[0m_current_indent_level\u001B[0m \u001B[1;33m-=\u001B[0m \u001B[1;36m1\u001B[0m\u001B[1;33m\u001B[0m\u001B[1;33m\u001B[0m\u001B[0m\n",
      "\u001B[1;32m~\\AppData\\Local\\Programs\\Python\\Python39\\lib\\json\\encoder.py\u001B[0m in \u001B[0;36m_iterencode\u001B[1;34m(o, _current_indent_level)\u001B[0m\n\u001B[0;32m    436\u001B[0m                     \u001B[1;32mraise\u001B[0m \u001B[0mValueError\u001B[0m\u001B[1;33m(\u001B[0m\u001B[1;34m\"Circular reference detected\"\u001B[0m\u001B[1;33m)\u001B[0m\u001B[1;33m\u001B[0m\u001B[1;33m\u001B[0m\u001B[0m\n\u001B[0;32m    437\u001B[0m                 \u001B[0mmarkers\u001B[0m\u001B[1;33m[\u001B[0m\u001B[0mmarkerid\u001B[0m\u001B[1;33m]\u001B[0m \u001B[1;33m=\u001B[0m \u001B[0mo\u001B[0m\u001B[1;33m\u001B[0m\u001B[1;33m\u001B[0m\u001B[0m\n\u001B[1;32m--> 438\u001B[1;33m             \u001B[0mo\u001B[0m \u001B[1;33m=\u001B[0m \u001B[0m_default\u001B[0m\u001B[1;33m(\u001B[0m\u001B[0mo\u001B[0m\u001B[1;33m)\u001B[0m\u001B[1;33m\u001B[0m\u001B[1;33m\u001B[0m\u001B[0m\n\u001B[0m\u001B[0;32m    439\u001B[0m             \u001B[1;32myield\u001B[0m \u001B[1;32mfrom\u001B[0m \u001B[0m_iterencode\u001B[0m\u001B[1;33m(\u001B[0m\u001B[0mo\u001B[0m\u001B[1;33m,\u001B[0m \u001B[0m_current_indent_level\u001B[0m\u001B[1;33m)\u001B[0m\u001B[1;33m\u001B[0m\u001B[1;33m\u001B[0m\u001B[0m\n\u001B[0;32m    440\u001B[0m             \u001B[1;32mif\u001B[0m \u001B[0mmarkers\u001B[0m \u001B[1;32mis\u001B[0m \u001B[1;32mnot\u001B[0m \u001B[1;32mNone\u001B[0m\u001B[1;33m:\u001B[0m\u001B[1;33m\u001B[0m\u001B[1;33m\u001B[0m\u001B[0m\n",
      "\u001B[1;32m~\\AppData\\Local\\Programs\\Python\\Python39\\lib\\json\\encoder.py\u001B[0m in \u001B[0;36mdefault\u001B[1;34m(self, o)\u001B[0m\n\u001B[0;32m    177\u001B[0m \u001B[1;33m\u001B[0m\u001B[0m\n\u001B[0;32m    178\u001B[0m         \"\"\"\n\u001B[1;32m--> 179\u001B[1;33m         raise TypeError(f'Object of type {o.__class__.__name__} '\n\u001B[0m\u001B[0;32m    180\u001B[0m                         f'is not JSON serializable')\n\u001B[0;32m    181\u001B[0m \u001B[1;33m\u001B[0m\u001B[0m\n",
      "\u001B[1;31mTypeError\u001B[0m: Object of type ndarray is not JSON serializable"
     ]
    }
   ],
   "source": [
    "f = open(\"demofile2.txt\", \"w\")\n",
    "f.write(json.dumps(model_results, indent= 2 ))\n",
    "f.close()\n"
   ],
   "metadata": {
    "collapsed": false,
    "pycharm": {
     "name": "#%%\n"
    }
   }
  }
 ],
 "metadata": {
  "interpreter": {
   "hash": "2b355ee983f23f4d0b28e90ea45b33537f29c12390fbee61533ba394cb277947"
  },
  "kernelspec": {
   "name": "python3",
   "language": "python",
   "display_name": "Python 3 (ipykernel)"
  },
  "language_info": {
   "codemirror_mode": {
    "name": "ipython",
    "version": 3
   },
   "file_extension": ".py",
   "mimetype": "text/x-python",
   "name": "python",
   "nbconvert_exporter": "python",
   "pygments_lexer": "ipython3",
   "version": "3.9.7"
  },
  "orig_nbformat": 4
 },
 "nbformat": 4,
 "nbformat_minor": 2
}