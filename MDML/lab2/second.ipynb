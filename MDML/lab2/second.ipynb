{
 "cells": [
  {
   "cell_type": "code",
   "execution_count": 1,
   "metadata": {},
   "outputs": [
    {
     "name": "stdout",
     "output_type": "stream",
     "text": [
      "ended part 1\n"
     ]
    }
   ],
   "source": [
    "import json\n",
    "\n",
    "import pandas as pd\n",
    "from sklearn.model_selection import train_test_split\n",
    "from sklearn.preprocessing import StandardScaler\n",
    "from sklearn.svm import SVC\n",
    "from sklearn.metrics import classification_report, confusion_matrix\n",
    "from sklearn.model_selection import cross_val_score\n",
    "from sklearn.model_selection import GridSearchCV\n",
    "model_results = []\n",
    "print('ended part 1')"
   ]
  },
  {
   "cell_type": "code",
   "execution_count": 2,
   "metadata": {},
   "outputs": [
    {
     "name": "stdout",
     "output_type": "stream",
     "text": [
      "ended part 2\n"
     ]
    }
   ],
   "source": [
    "# Q 2\n",
    "# get dataset\n",
    "dataset = pd.read_csv('Social_Network_Ads.csv')\n",
    "dataset.head(10)\n",
    "# dataset.shape\n",
    "# generate x y\n",
    "X = dataset.drop('Purchased', axis= 1) # our attributes\n",
    "y = dataset['Purchased'] # our labels\n",
    "# split into tran and test sets\n",
    "X_train, X_test, y_train, y_test = train_test_split(X, y, test_size=0.2)\n",
    "print('ended part 2')"
   ]
  },
  {
   "cell_type": "code",
   "execution_count": 3,
   "metadata": {},
   "outputs": [
    {
     "name": "stdout",
     "output_type": "stream",
     "text": [
      "ended part 3\n"
     ]
    }
   ],
   "source": [
    "# scale X\n",
    "scaler = StandardScaler().fit(X_train, X_test)\n",
    "X_std = pd.DataFrame(scaler.transform(X), columns=['Age', 'EstimatedSalary'])\n",
    "print('ended part 3')"
   ]
  },
  {
   "cell_type": "code",
   "execution_count": 4,
   "metadata": {},
   "outputs": [
    {
     "name": "stdout",
     "output_type": "stream",
     "text": [
      "ended part 4\n"
     ]
    }
   ],
   "source": [
    "# create SVC\n",
    "svclassifier = SVC(kernel='linear', random_state = 0)\n",
    "svclassifier.fit(X_train, y_train)\n",
    "print('ended part 4')"
   ]
  },
  {
   "cell_type": "code",
   "execution_count": 5,
   "metadata": {},
   "outputs": [
    {
     "name": "stdout",
     "output_type": "stream",
     "text": [
      "ended part 5\n"
     ]
    }
   ],
   "source": [
    "# make predictions\n",
    "y_pred = svclassifier.predict(X_test)\n",
    "print('ended part 5')"
   ]
  },
  {
   "cell_type": "code",
   "execution_count": 6,
   "metadata": {},
   "outputs": [
    {
     "name": "stdout",
     "output_type": "stream",
     "text": [
      "[[45  1]\n",
      " [14 20]]\n",
      "              precision    recall  f1-score   support\n",
      "\n",
      "           0       0.76      0.98      0.86        46\n",
      "           1       0.95      0.59      0.73        34\n",
      "\n",
      "    accuracy                           0.81        80\n",
      "   macro avg       0.86      0.78      0.79        80\n",
      "weighted avg       0.84      0.81      0.80        80\n",
      "\n",
      "ended part 6\n"
     ]
    }
   ],
   "source": [
    "# 7. confusion matrix\n",
    "conf_matrix = confusion_matrix(y_test,y_pred)\n",
    "class_report = classification_report(y_test,y_pred)\n",
    "model_results['SVC_confusion'] = conf_matrix\n",
    "model_results['SVC_classification'] = class_report\n",
    "print(conf_matrix)\n",
    "print(class_report)\n",
    "# the result is bad, probably because we have too little observations (80 is TOO LITTLE. P.S with .9% taken the result is not better)\n",
    "print('ended part 6')"
   ]
  },
  {
   "cell_type": "code",
   "execution_count": 7,
   "metadata": {},
   "outputs": [
    {
     "name": "stdout",
     "output_type": "stream",
     "text": [
      "commented for meh reasons\n",
      "ended part 7\n"
     ]
    }
   ],
   "source": [
    "# scores = cross_val_score(svclassifier, X, y, cv=4, n_jobs=8)\n",
    "print('commented for meh reasons')\n",
    "print('ended part 7')\n",
    "# scores"
   ]
  },
  {
   "cell_type": "code",
   "execution_count": null,
   "outputs": [
    {
     "name": "stdout",
     "output_type": "stream",
     "text": [
      "started grid search cell\n",
      "# Tuning hyper-parameters for precision\n",
      "\n",
      "it started grid search and svc/fit\n"
     ]
    }
   ],
   "source": [
    "print('started grid search cell')\n",
    "# set C parameters\n",
    "param_grid = [\n",
    "  {'C': [0.25, 0.5, 0.75, 1], 'kernel': ['linear']},\n",
    "  {'C': [0.25, 0.5, 0.75, 1], 'gamma': [0.001, 0.0001], 'kernel': ['rbf']},\n",
    " ]\n",
    "\n",
    "types = [\"precision\", \"recall\"]\n",
    "\n",
    "for score in types:\n",
    "    print(\"# Tuning hyper-parameters for %s\" % score)\n",
    "    print()\n",
    "\n",
    "    print('it started grid search and svc/fit')\n",
    "    clf = GridSearchCV(SVC(), param_grid, scoring=\"%s_macro\" % score)\n",
    "    clf.fit(X_train, y_train)\n",
    "    print('it finished grid search and svc/fit')\n",
    "\n",
    "    print(\"Best parameters set found on development set:\")\n",
    "    print()\n",
    "    print(clf.best_params_)\n",
    "    print()\n",
    "    print(\"Grid scores on development set:\")\n",
    "    print()\n",
    "    means = clf.cv_results_[\"mean_test_score\"]\n",
    "    stds = clf.cv_results_[\"std_test_score\"]\n",
    "    for mean, std, params in zip(means, stds, clf.cv_results_[\"params\"]):\n",
    "        print(\"%0.3f (+/-%0.03f) for %r\" % (mean, std * 2, params))\n",
    "    print()\n",
    "\n",
    "    print(\"Detailed classification report:\")\n",
    "    print()\n",
    "    print(\"The model is trained on the full development set.\")\n",
    "    print(\"The scores are computed on the full evaluation set.\")\n",
    "    print()\n",
    "    y_true, y_pred = y_test, clf.predict(X_test)\n",
    "    loop_classification = classification_report(y_true, y_pred)\n",
    "    print(loop_classification)\n",
    "    model_results[score+'_classification'] = loop_classification\n",
    "    print()\n"
   ],
   "metadata": {
    "collapsed": false,
    "pycharm": {
     "name": "#%%\n",
     "is_executing": true
    }
   }
  },
  {
   "cell_type": "code",
   "execution_count": null,
   "outputs": [],
   "source": [
    "f = open(\"demofile2.txt\", \"w\")\n",
    "f.write(json.dumps(model_results, indent= 2 ))\n",
    "f.close()\n"
   ],
   "metadata": {
    "collapsed": false,
    "pycharm": {
     "name": "#%%\n"
    }
   }
  }
 ],
 "metadata": {
  "interpreter": {
   "hash": "2b355ee983f23f4d0b28e90ea45b33537f29c12390fbee61533ba394cb277947"
  },
  "kernelspec": {
   "name": "python3",
   "language": "python",
   "display_name": "Python 3 (ipykernel)"
  },
  "language_info": {
   "codemirror_mode": {
    "name": "ipython",
    "version": 3
   },
   "file_extension": ".py",
   "mimetype": "text/x-python",
   "name": "python",
   "nbconvert_exporter": "python",
   "pygments_lexer": "ipython3",
   "version": "3.9.7"
  },
  "orig_nbformat": 4
 },
 "nbformat": 4,
 "nbformat_minor": 2
}