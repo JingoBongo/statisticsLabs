{
 "cells": [
  {
   "cell_type": "code",
   "execution_count": 7,
   "metadata": {},
   "outputs": [
    {
     "name": "stdout",
     "output_type": "stream",
     "text": [
      "Point b belongs to A with dist4.0\n",
      "Point d belongs to A with dist1.0\n",
      "Point e belongs to A with dist4.123105625617661\n"
     ]
    }
   ],
   "source": [
    "import math\n",
    "clusterA = [3, 4]\n",
    "clusterC = [1, 5]\n",
    "pointB = [3, 0]\n",
    "pointD = [2, 4]\n",
    "pointE = [4, 0]\n",
    "\n",
    "\n",
    "def get_dist(x1, y1, x2, y2):\n",
    "    return math.sqrt((x1-x2)**2 + (y1-y2)**2)\n",
    "\n",
    "distAB = get_dist(clusterA[0], clusterA[1], pointB[0], pointB[1])\n",
    "distBC = get_dist(clusterC[0], clusterC[1], pointB[0], pointB[1])\n",
    "if distAB < distBC:\n",
    "    print('Point b belongs to A with dist '+str(distAB))\n",
    "else:\n",
    "    print('Point b belongs to C with dist '+str(distBC))\n",
    "\n",
    "distDA = get_dist(clusterA[0], clusterA[1], pointD[0], pointD[1])\n",
    "distDC = get_dist(clusterC[0], clusterC[1], pointD[0], pointD[1])\n",
    "if distDA < distDC:\n",
    "    print('Point d belongs to A with dist '+str(distDA))\n",
    "else:\n",
    "    print('Point d belongs to C with dist '+str(distDC))\n",
    "\n",
    "distEA = get_dist(clusterA[0], clusterA[1], pointE[0], pointE[1])\n",
    "distEC = get_dist(clusterC[0], clusterC[1], pointE[0], pointE[1])\n",
    "if distEA < distEC:\n",
    "    print('Point e belongs to A with dist '+str(distEA))\n",
    "else:\n",
    "    print('Point e belongs to C with dist '+str(distEC))\n",
    "\n"
   ]
  },
  {
   "cell_type": "code",
   "execution_count": 1,
   "metadata": {},
   "outputs": [
    {
     "name": "stdout",
     "output_type": "stream",
     "text": [
      "9\n"
     ]
    }
   ],
   "source": [
    "print(3**2)"
   ]
  }
 ],
 "metadata": {
  "interpreter": {
   "hash": "2b355ee983f23f4d0b28e90ea45b33537f29c12390fbee61533ba394cb277947"
  },
  "kernelspec": {
   "display_name": "Python 3.9.7 64-bit",
   "language": "python",
   "name": "python3"
  },
  "language_info": {
   "codemirror_mode": {
    "name": "ipython",
    "version": 3
   },
   "file_extension": ".py",
   "mimetype": "text/x-python",
   "name": "python",
   "nbconvert_exporter": "python",
   "pygments_lexer": "ipython3",
   "version": "3.9.7"
  },
  "orig_nbformat": 4
 },
 "nbformat": 4,
 "nbformat_minor": 2
}
