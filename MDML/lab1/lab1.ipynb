{
 "cells": [
  {
   "cell_type": "code",
   "execution_count": 48,
   "metadata": {},
   "outputs": [],
   "source": [
    "# imports\n",
    "import numpy as np\n",
    "import pandas as pd\n",
    "import matplotlib.pyplot as plt\n",
    "import seaborn as sns\n",
    "import math\n",
    "from sklearn.preprocessing import StandardScaler\n",
    "from sklearn.cluster import KMeans"
   ]
  },
  {
   "cell_type": "code",
   "execution_count": 36,
   "metadata": {},
   "outputs": [
    {
     "name": "stdout",
     "output_type": "stream",
     "text": [
      "   Unnamed: 0       Category Sex  Age   ALB   ALT   AST  BIL    CHE  CHOL  \\\n",
      "0           1  0=Blood Donor   m   32  38.5   7.7  22.1  7.5   6.93  3.23   \n",
      "1           2  0=Blood Donor   m   32  38.5  18.0  24.7  3.9  11.17  4.80   \n",
      "2           3  0=Blood Donor   m   32  46.9  36.2  52.6  6.1   8.84  5.20   \n",
      "\n",
      "    CREA   GGT  PROT  \n",
      "0  106.0  12.1  69.0  \n",
      "1   74.0  15.6  76.5  \n",
      "2   86.0  33.2  79.3  \n",
      "Nr. of observations = Unnamed: 0    567\n",
      "Category      567\n",
      "Sex           567\n",
      "Age           567\n",
      "ALB           567\n",
      "ALT           567\n",
      "AST           567\n",
      "BIL           567\n",
      "CHE           567\n",
      "CHOL          567\n",
      "CREA          567\n",
      "GGT           567\n",
      "PROT          567\n",
      "dtype: int64\n",
      "Nr of variables =9\n",
      "Unnamed: 0's value type: int64\n",
      "Category's value type: object\n",
      "Sex's value type: object\n",
      "Age's value type: int64\n",
      "ALB's value type: float64\n",
      "ALT's value type: float64\n",
      "AST's value type: float64\n",
      "BIL's value type: float64\n",
      "CHE's value type: float64\n",
      "CHOL's value type: float64\n",
      "CREA's value type: float64\n",
      "GGT's value type: float64\n",
      "PROT's value type: float64\n"
     ]
    }
   ],
   "source": [
    "# 1.    import the dataset \n",
    "dfHVC = pd.read_csv('HCVdata.csv', sep=';')\n",
    "print(dfHVC.head(3))\n",
    "#       how many obesravtions are there?\n",
    "print('Nr. of observations = '+str(dfHVC.count())) #567\n",
    "#       how many variables are there (minus first 4, right?)\n",
    "amount = 0\n",
    "for n in dfHVC.columns:\n",
    "    amount += 1\n",
    "print('Nr of variables ='+str(amount-4))\n",
    "# What types of variables? \n",
    "# for categorical variable get number of levels\n",
    "# *** surprise surprise, by default pandas has no idea of what column is categorical when it sees our 'Category'\n",
    "# clearly, sex and 'Category' are of type category(and we ignore them), others are all numeric\n",
    "# sex has males and females, Category has 4 categories in it. But shouldn't we ignore the first 4 columns?\n",
    "# float numbers shouldn't really be categorical, same goes for age\n",
    "        "
   ]
  },
  {
   "cell_type": "code",
   "execution_count": 43,
   "metadata": {},
   "outputs": [
    {
     "name": "stdout",
     "output_type": "stream",
     "text": [
      "Unnamed: 0\n",
      "Age\n",
      "ALB\n",
      "ALT\n",
      "AST\n",
      "BIL\n",
      "CHE\n",
      "CHOL\n",
      "CREA\n",
      "GGT\n",
      "PROT\n"
     ]
    }
   ],
   "source": [
    "#  2.    scale all the variables in a dataframe\n",
    "scaler = StandardScaler()\n",
    "# first I want to get all numeric variables\n",
    "newdf = dfHVC.select_dtypes(include=np.number)\n",
    "dfHVC_scaled = scaler.fit_transform(newdf)"
   ]
  },
  {
   "cell_type": "code",
   "execution_count": 49,
   "metadata": {},
   "outputs": [],
   "source": [
    "#  3.   perform k mean clustering by example\n",
    "dfHVC_Kmeans4 = KMeans(n_clusters = 4, n_init = 50, random_state = 1000).fit(dfHVC_scaled)\n",
    "\n",
    "#  calculate the matching matrix and interpret the re\u0002sults by trying to match each real group to a given \n",
    "#  cluster detected by the algorithm.\n",
    "pd.crosstab(i )\n",
    "\n",
    "\n",
    "# 0=Blood Donor, 1=Hepatitis, 2=Fibrosis and\n",
    "# 3=Cirrhosis\n",
    "\n",
    "\n"
   ]
  }
 ],
 "metadata": {
  "interpreter": {
   "hash": "ac59ebe37160ed0dfa835113d9b8498d9f09ceb179beaac4002f036b9467c963"
  },
  "kernelspec": {
   "display_name": "Python 3.9.5 64-bit",
   "name": "python3"
  },
  "language_info": {
   "codemirror_mode": {
    "name": "ipython",
    "version": 3
   },
   "file_extension": ".py",
   "mimetype": "text/x-python",
   "name": "python",
   "nbconvert_exporter": "python",
   "pygments_lexer": "ipython3",
   "version": "3.9.5"
  },
  "orig_nbformat": 4
 },
 "nbformat": 4,
 "nbformat_minor": 2
}
